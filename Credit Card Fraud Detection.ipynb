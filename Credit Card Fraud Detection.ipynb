{
 "cells": [
  {
   "cell_type": "code",
   "execution_count": 43,
   "metadata": {},
   "outputs": [],
   "source": [
    "#importing libraries\n",
    "%matplotlib inline\n",
    "import scipy.stats as stats\n",
    "import numpy as np\n",
    "import pandas as pd\n",
    "import matplotlib.pyplot as plt\n",
    "import seaborn as sns\n",
    "from sklearn.metrics import confusion_matrix\n",
    "plt.style.use('ggplot')"
   ]
  },
  {
   "cell_type": "code",
   "execution_count": 109,
   "metadata": {},
   "outputs": [],
   "source": [
    "from imblearn.pipeline import make_pipeline \n",
    "from imblearn.over_sampling import SMOTE\n",
    "from imblearn.under_sampling import NearMiss\n",
    "from imblearn.metrics import classification_report_imbalanced\n",
    "from sklearn.metrics import precision_score, recall_score, f1_score, roc_auc_score, accuracy_score, classification_report"
   ]
  },
  {
   "cell_type": "code",
   "execution_count": 122,
   "metadata": {},
   "outputs": [],
   "source": [
    "df = pd.read_csv('creditcard.csv')"
   ]
  },
  {
   "cell_type": "code",
   "execution_count": 123,
   "metadata": {},
   "outputs": [
    {
     "name": "stdout",
     "output_type": "stream",
     "text": [
      "<class 'pandas.core.frame.DataFrame'>\n",
      "RangeIndex: 284807 entries, 0 to 284806\n",
      "Data columns (total 31 columns):\n",
      "Time      284807 non-null float64\n",
      "V1        284807 non-null float64\n",
      "V2        284807 non-null float64\n",
      "V3        284807 non-null float64\n",
      "V4        284807 non-null float64\n",
      "V5        284807 non-null float64\n",
      "V6        284807 non-null float64\n",
      "V7        284807 non-null float64\n",
      "V8        284807 non-null float64\n",
      "V9        284807 non-null float64\n",
      "V10       284807 non-null float64\n",
      "V11       284807 non-null float64\n",
      "V12       284807 non-null float64\n",
      "V13       284807 non-null float64\n",
      "V14       284807 non-null float64\n",
      "V15       284807 non-null float64\n",
      "V16       284807 non-null float64\n",
      "V17       284807 non-null float64\n",
      "V18       284807 non-null float64\n",
      "V19       284807 non-null float64\n",
      "V20       284807 non-null float64\n",
      "V21       284807 non-null float64\n",
      "V22       284807 non-null float64\n",
      "V23       284807 non-null float64\n",
      "V24       284807 non-null float64\n",
      "V25       284807 non-null float64\n",
      "V26       284807 non-null float64\n",
      "V27       284807 non-null float64\n",
      "V28       284807 non-null float64\n",
      "Amount    284807 non-null float64\n",
      "Class     284807 non-null int64\n",
      "dtypes: float64(30), int64(1)\n",
      "memory usage: 67.4 MB\n"
     ]
    }
   ],
   "source": [
    "df.info()"
   ]
  },
  {
   "cell_type": "code",
   "execution_count": 124,
   "metadata": {},
   "outputs": [
    {
     "data": {
      "text/html": [
       "<div>\n",
       "<style scoped>\n",
       "    .dataframe tbody tr th:only-of-type {\n",
       "        vertical-align: middle;\n",
       "    }\n",
       "\n",
       "    .dataframe tbody tr th {\n",
       "        vertical-align: top;\n",
       "    }\n",
       "\n",
       "    .dataframe thead th {\n",
       "        text-align: right;\n",
       "    }\n",
       "</style>\n",
       "<table border=\"1\" class=\"dataframe\">\n",
       "  <thead>\n",
       "    <tr style=\"text-align: right;\">\n",
       "      <th></th>\n",
       "      <th>Time</th>\n",
       "      <th>V1</th>\n",
       "      <th>V2</th>\n",
       "      <th>V3</th>\n",
       "      <th>V4</th>\n",
       "      <th>V5</th>\n",
       "      <th>V6</th>\n",
       "      <th>V7</th>\n",
       "      <th>V8</th>\n",
       "      <th>V9</th>\n",
       "      <th>...</th>\n",
       "      <th>V21</th>\n",
       "      <th>V22</th>\n",
       "      <th>V23</th>\n",
       "      <th>V24</th>\n",
       "      <th>V25</th>\n",
       "      <th>V26</th>\n",
       "      <th>V27</th>\n",
       "      <th>V28</th>\n",
       "      <th>Amount</th>\n",
       "      <th>Class</th>\n",
       "    </tr>\n",
       "  </thead>\n",
       "  <tbody>\n",
       "    <tr>\n",
       "      <th>0</th>\n",
       "      <td>0.0</td>\n",
       "      <td>-1.36</td>\n",
       "      <td>-0.07</td>\n",
       "      <td>2.54</td>\n",
       "      <td>1.38</td>\n",
       "      <td>-0.34</td>\n",
       "      <td>0.46</td>\n",
       "      <td>0.24</td>\n",
       "      <td>0.10</td>\n",
       "      <td>0.36</td>\n",
       "      <td>...</td>\n",
       "      <td>-1.83e-02</td>\n",
       "      <td>2.78e-01</td>\n",
       "      <td>-0.11</td>\n",
       "      <td>0.07</td>\n",
       "      <td>0.13</td>\n",
       "      <td>-0.19</td>\n",
       "      <td>1.34e-01</td>\n",
       "      <td>-0.02</td>\n",
       "      <td>149.62</td>\n",
       "      <td>0</td>\n",
       "    </tr>\n",
       "    <tr>\n",
       "      <th>1</th>\n",
       "      <td>0.0</td>\n",
       "      <td>1.19</td>\n",
       "      <td>0.27</td>\n",
       "      <td>0.17</td>\n",
       "      <td>0.45</td>\n",
       "      <td>0.06</td>\n",
       "      <td>-0.08</td>\n",
       "      <td>-0.08</td>\n",
       "      <td>0.09</td>\n",
       "      <td>-0.26</td>\n",
       "      <td>...</td>\n",
       "      <td>-2.26e-01</td>\n",
       "      <td>-6.39e-01</td>\n",
       "      <td>0.10</td>\n",
       "      <td>-0.34</td>\n",
       "      <td>0.17</td>\n",
       "      <td>0.13</td>\n",
       "      <td>-8.98e-03</td>\n",
       "      <td>0.01</td>\n",
       "      <td>2.69</td>\n",
       "      <td>0</td>\n",
       "    </tr>\n",
       "    <tr>\n",
       "      <th>2</th>\n",
       "      <td>1.0</td>\n",
       "      <td>-1.36</td>\n",
       "      <td>-1.34</td>\n",
       "      <td>1.77</td>\n",
       "      <td>0.38</td>\n",
       "      <td>-0.50</td>\n",
       "      <td>1.80</td>\n",
       "      <td>0.79</td>\n",
       "      <td>0.25</td>\n",
       "      <td>-1.51</td>\n",
       "      <td>...</td>\n",
       "      <td>2.48e-01</td>\n",
       "      <td>7.72e-01</td>\n",
       "      <td>0.91</td>\n",
       "      <td>-0.69</td>\n",
       "      <td>-0.33</td>\n",
       "      <td>-0.14</td>\n",
       "      <td>-5.54e-02</td>\n",
       "      <td>-0.06</td>\n",
       "      <td>378.66</td>\n",
       "      <td>0</td>\n",
       "    </tr>\n",
       "    <tr>\n",
       "      <th>3</th>\n",
       "      <td>1.0</td>\n",
       "      <td>-0.97</td>\n",
       "      <td>-0.19</td>\n",
       "      <td>1.79</td>\n",
       "      <td>-0.86</td>\n",
       "      <td>-0.01</td>\n",
       "      <td>1.25</td>\n",
       "      <td>0.24</td>\n",
       "      <td>0.38</td>\n",
       "      <td>-1.39</td>\n",
       "      <td>...</td>\n",
       "      <td>-1.08e-01</td>\n",
       "      <td>5.27e-03</td>\n",
       "      <td>-0.19</td>\n",
       "      <td>-1.18</td>\n",
       "      <td>0.65</td>\n",
       "      <td>-0.22</td>\n",
       "      <td>6.27e-02</td>\n",
       "      <td>0.06</td>\n",
       "      <td>123.50</td>\n",
       "      <td>0</td>\n",
       "    </tr>\n",
       "    <tr>\n",
       "      <th>4</th>\n",
       "      <td>2.0</td>\n",
       "      <td>-1.16</td>\n",
       "      <td>0.88</td>\n",
       "      <td>1.55</td>\n",
       "      <td>0.40</td>\n",
       "      <td>-0.41</td>\n",
       "      <td>0.10</td>\n",
       "      <td>0.59</td>\n",
       "      <td>-0.27</td>\n",
       "      <td>0.82</td>\n",
       "      <td>...</td>\n",
       "      <td>-9.43e-03</td>\n",
       "      <td>7.98e-01</td>\n",
       "      <td>-0.14</td>\n",
       "      <td>0.14</td>\n",
       "      <td>-0.21</td>\n",
       "      <td>0.50</td>\n",
       "      <td>2.19e-01</td>\n",
       "      <td>0.22</td>\n",
       "      <td>69.99</td>\n",
       "      <td>0</td>\n",
       "    </tr>\n",
       "  </tbody>\n",
       "</table>\n",
       "<p>5 rows × 31 columns</p>\n",
       "</div>"
      ],
      "text/plain": [
       "   Time    V1    V2    V3    V4    V5    V6    V7    V8    V9  ...       V21  \\\n",
       "0   0.0 -1.36 -0.07  2.54  1.38 -0.34  0.46  0.24  0.10  0.36  ... -1.83e-02   \n",
       "1   0.0  1.19  0.27  0.17  0.45  0.06 -0.08 -0.08  0.09 -0.26  ... -2.26e-01   \n",
       "2   1.0 -1.36 -1.34  1.77  0.38 -0.50  1.80  0.79  0.25 -1.51  ...  2.48e-01   \n",
       "3   1.0 -0.97 -0.19  1.79 -0.86 -0.01  1.25  0.24  0.38 -1.39  ... -1.08e-01   \n",
       "4   2.0 -1.16  0.88  1.55  0.40 -0.41  0.10  0.59 -0.27  0.82  ... -9.43e-03   \n",
       "\n",
       "        V22   V23   V24   V25   V26       V27   V28  Amount  Class  \n",
       "0  2.78e-01 -0.11  0.07  0.13 -0.19  1.34e-01 -0.02  149.62      0  \n",
       "1 -6.39e-01  0.10 -0.34  0.17  0.13 -8.98e-03  0.01    2.69      0  \n",
       "2  7.72e-01  0.91 -0.69 -0.33 -0.14 -5.54e-02 -0.06  378.66      0  \n",
       "3  5.27e-03 -0.19 -1.18  0.65 -0.22  6.27e-02  0.06  123.50      0  \n",
       "4  7.98e-01 -0.14  0.14 -0.21  0.50  2.19e-01  0.22   69.99      0  \n",
       "\n",
       "[5 rows x 31 columns]"
      ]
     },
     "execution_count": 124,
     "metadata": {},
     "output_type": "execute_result"
    }
   ],
   "source": [
    "df.head()"
   ]
  },
  {
   "cell_type": "code",
   "execution_count": 125,
   "metadata": {},
   "outputs": [
    {
     "data": {
      "text/plain": [
       "(284807, 31)"
      ]
     },
     "execution_count": 125,
     "metadata": {},
     "output_type": "execute_result"
    }
   ],
   "source": [
    "df.shape"
   ]
  },
  {
   "cell_type": "markdown",
   "metadata": {},
   "source": [
    "The dataset has 284807 observations and 31 columns with the dependent variable named as \"Class\". Column \"Amount\" represents the transaction amount.\n",
    "- 0 = Legitimate Transaction\n",
    "- 1 = Fraudulent Transaction\n",
    "\n",
    "Apparently, we do not need to transform the data as most of the variables are already standardized. "
   ]
  },
  {
   "cell_type": "markdown",
   "metadata": {},
   "source": [
    "## Checking the distribution of data"
   ]
  },
  {
   "cell_type": "code",
   "execution_count": 126,
   "metadata": {},
   "outputs": [
    {
     "data": {
      "text/html": [
       "<div>\n",
       "<style scoped>\n",
       "    .dataframe tbody tr th:only-of-type {\n",
       "        vertical-align: middle;\n",
       "    }\n",
       "\n",
       "    .dataframe tbody tr th {\n",
       "        vertical-align: top;\n",
       "    }\n",
       "\n",
       "    .dataframe thead th {\n",
       "        text-align: right;\n",
       "    }\n",
       "</style>\n",
       "<table border=\"1\" class=\"dataframe\">\n",
       "  <thead>\n",
       "    <tr style=\"text-align: right;\">\n",
       "      <th></th>\n",
       "      <th>Time</th>\n",
       "      <th>Amount</th>\n",
       "    </tr>\n",
       "  </thead>\n",
       "  <tbody>\n",
       "    <tr>\n",
       "      <th>count</th>\n",
       "      <td>284807.00</td>\n",
       "      <td>284807.00</td>\n",
       "    </tr>\n",
       "    <tr>\n",
       "      <th>mean</th>\n",
       "      <td>94813.86</td>\n",
       "      <td>88.35</td>\n",
       "    </tr>\n",
       "    <tr>\n",
       "      <th>std</th>\n",
       "      <td>47488.15</td>\n",
       "      <td>250.12</td>\n",
       "    </tr>\n",
       "    <tr>\n",
       "      <th>min</th>\n",
       "      <td>0.00</td>\n",
       "      <td>0.00</td>\n",
       "    </tr>\n",
       "    <tr>\n",
       "      <th>25%</th>\n",
       "      <td>54201.50</td>\n",
       "      <td>5.60</td>\n",
       "    </tr>\n",
       "    <tr>\n",
       "      <th>50%</th>\n",
       "      <td>84692.00</td>\n",
       "      <td>22.00</td>\n",
       "    </tr>\n",
       "    <tr>\n",
       "      <th>75%</th>\n",
       "      <td>139320.50</td>\n",
       "      <td>77.16</td>\n",
       "    </tr>\n",
       "    <tr>\n",
       "      <th>max</th>\n",
       "      <td>172792.00</td>\n",
       "      <td>25691.16</td>\n",
       "    </tr>\n",
       "  </tbody>\n",
       "</table>\n",
       "</div>"
      ],
      "text/plain": [
       "            Time     Amount\n",
       "count  284807.00  284807.00\n",
       "mean    94813.86      88.35\n",
       "std     47488.15     250.12\n",
       "min         0.00       0.00\n",
       "25%     54201.50       5.60\n",
       "50%     84692.00      22.00\n",
       "75%    139320.50      77.16\n",
       "max    172792.00   25691.16"
      ]
     },
     "execution_count": 126,
     "metadata": {},
     "output_type": "execute_result"
    }
   ],
   "source": [
    "pd.set_option('precision', 2)\n",
    "df[['Time','Amount']].describe()"
   ]
  },
  {
   "cell_type": "code",
   "execution_count": 128,
   "metadata": {},
   "outputs": [
    {
     "data": {
      "text/plain": [
       "<matplotlib.axes._subplots.AxesSubplot at 0x256a57dd358>"
      ]
     },
     "execution_count": 128,
     "metadata": {},
     "output_type": "execute_result"
    },
    {
     "data": {
      "image/png": "[encoded data removed]",
      "text/plain": [
       "<Figure size 576x360 with 1 Axes>"
      ]
     },
     "metadata": {},
     "output_type": "display_data"
    }
   ],
   "source": [
    "#visualizations of time and amount\n",
    "plt.figure(figsize=(8,5))\n",
    "plt.title('Distribution of Time Feature')\n",
    "sns.distplot(df.Time, color = 'darkblue')"
   ]
  },
  {
   "cell_type": "code",
   "execution_count": 10,
   "metadata": {},
   "outputs": [
    {
     "data": {
      "text/plain": [
       "<Figure size 720x576 with 0 Axes>"
      ]
     },
     "metadata": {},
     "output_type": "display_data"
    },
    {
     "data": {
      "image/png": "[encoded data removed]",
      "text/plain": [
       "<Figure size 432x288 with 2 Axes>"
      ]
     },
     "metadata": {
      "needs_background": "light"
     },
     "output_type": "display_data"
    }
   ],
   "source": [
    "#visualizations of amount\n",
    "plt.figure(figsize=(10,8))\n",
    "fig,axes=plt.subplots(1,2)\n",
    "plt.title('Distribution of Transaction Amount')\n",
    "plt.grid(True)\n",
    "sns.distplot(df[df.Amount<1000].Amount, color = 'darkblue',ax=axes[0])\n",
    "sns.distplot(df[df.Amount>1000].Amount, color = 'darkblue',ax=axes[1])\n",
    "plt.show()"
   ]
  },
  {
   "cell_type": "markdown",
   "metadata": {},
   "source": [
    "## Checking whether the dataset is imbalanced"
   ]
  },
  {
   "cell_type": "code",
   "execution_count": 11,
   "metadata": {},
   "outputs": [
    {
     "data": {
      "text/plain": [
       "0    284315\n",
       "1       492\n",
       "Name: Class, dtype: int64"
      ]
     },
     "execution_count": 11,
     "metadata": {},
     "output_type": "execute_result"
    }
   ],
   "source": [
    "df['Class'].value_counts()"
   ]
  },
  {
   "cell_type": "markdown",
   "metadata": {},
   "source": [
    "As can be seen, following are the count of transactions in both the classes\n",
    "- Legitimate = 284315\n",
    "- Fraudulent = 432\n",
    "\n",
    "This shows that the dataset is highly imbalanced. Applying machine learning algorithms on this dataset will result in faulty conclusions. Thus, we should first balance the dataset using one of the following approaches\n",
    "\n",
    "- Undersampling the majority class\n",
    "- Over Sampling the minority class\n",
    "- SMOTE\n",
    "\n",
    "We will apply these methods but we will also check the predictions on the raw data."
   ]
  },
  {
   "cell_type": "markdown",
   "metadata": {},
   "source": [
    "## Scaling of time and amount features in the dataset"
   ]
  },
  {
   "cell_type": "markdown",
   "metadata": {},
   "source": [
    "As can be seen from the dataset, all the features except time and amount are featured and also it looks like PCA is performed on them. Thus, before moving ahead, let us first stadardize these two features."
   ]
  },
  {
   "cell_type": "code",
   "execution_count": 12,
   "metadata": {},
   "outputs": [],
   "source": [
    "from sklearn.preprocessing import RobustScaler\n",
    "\n",
    "robscale = RobustScaler()\n",
    "std_time = robscale.fit_transform(df['Time'].values.reshape(-1,1))\n",
    "std_amount = robscale.fit_transform(df['Amount'].values.reshape(-1,1))\n",
    "df.insert(0, 'scaled_amount', std_amount)\n",
    "df.insert(1, 'scaled_time', std_time)\n",
    "df.drop(['Time','Amount'], axis=1, inplace=True)"
   ]
  },
  {
   "cell_type": "code",
   "execution_count": 13,
   "metadata": {},
   "outputs": [
    {
     "data": {
      "text/html": [
       "<div>\n",
       "<style scoped>\n",
       "    .dataframe tbody tr th:only-of-type {\n",
       "        vertical-align: middle;\n",
       "    }\n",
       "\n",
       "    .dataframe tbody tr th {\n",
       "        vertical-align: top;\n",
       "    }\n",
       "\n",
       "    .dataframe thead th {\n",
       "        text-align: right;\n",
       "    }\n",
       "</style>\n",
       "<table border=\"1\" class=\"dataframe\">\n",
       "  <thead>\n",
       "    <tr style=\"text-align: right;\">\n",
       "      <th></th>\n",
       "      <th>scaled_amount</th>\n",
       "      <th>scaled_time</th>\n",
       "      <th>V1</th>\n",
       "      <th>V2</th>\n",
       "      <th>V3</th>\n",
       "      <th>V4</th>\n",
       "      <th>V5</th>\n",
       "      <th>V6</th>\n",
       "      <th>V7</th>\n",
       "      <th>V8</th>\n",
       "      <th>...</th>\n",
       "      <th>V20</th>\n",
       "      <th>V21</th>\n",
       "      <th>V22</th>\n",
       "      <th>V23</th>\n",
       "      <th>V24</th>\n",
       "      <th>V25</th>\n",
       "      <th>V26</th>\n",
       "      <th>V27</th>\n",
       "      <th>V28</th>\n",
       "      <th>Class</th>\n",
       "    </tr>\n",
       "  </thead>\n",
       "  <tbody>\n",
       "    <tr>\n",
       "      <th>0</th>\n",
       "      <td>1.78</td>\n",
       "      <td>-0.99</td>\n",
       "      <td>-1.36</td>\n",
       "      <td>-0.07</td>\n",
       "      <td>2.54</td>\n",
       "      <td>1.38</td>\n",
       "      <td>-0.34</td>\n",
       "      <td>0.46</td>\n",
       "      <td>0.24</td>\n",
       "      <td>0.10</td>\n",
       "      <td>...</td>\n",
       "      <td>0.25</td>\n",
       "      <td>-1.83e-02</td>\n",
       "      <td>2.78e-01</td>\n",
       "      <td>-0.11</td>\n",
       "      <td>0.07</td>\n",
       "      <td>0.13</td>\n",
       "      <td>-0.19</td>\n",
       "      <td>1.34e-01</td>\n",
       "      <td>-0.02</td>\n",
       "      <td>0</td>\n",
       "    </tr>\n",
       "    <tr>\n",
       "      <th>1</th>\n",
       "      <td>-0.27</td>\n",
       "      <td>-0.99</td>\n",
       "      <td>1.19</td>\n",
       "      <td>0.27</td>\n",
       "      <td>0.17</td>\n",
       "      <td>0.45</td>\n",
       "      <td>0.06</td>\n",
       "      <td>-0.08</td>\n",
       "      <td>-0.08</td>\n",
       "      <td>0.09</td>\n",
       "      <td>...</td>\n",
       "      <td>-0.07</td>\n",
       "      <td>-2.26e-01</td>\n",
       "      <td>-6.39e-01</td>\n",
       "      <td>0.10</td>\n",
       "      <td>-0.34</td>\n",
       "      <td>0.17</td>\n",
       "      <td>0.13</td>\n",
       "      <td>-8.98e-03</td>\n",
       "      <td>0.01</td>\n",
       "      <td>0</td>\n",
       "    </tr>\n",
       "    <tr>\n",
       "      <th>2</th>\n",
       "      <td>4.98</td>\n",
       "      <td>-0.99</td>\n",
       "      <td>-1.36</td>\n",
       "      <td>-1.34</td>\n",
       "      <td>1.77</td>\n",
       "      <td>0.38</td>\n",
       "      <td>-0.50</td>\n",
       "      <td>1.80</td>\n",
       "      <td>0.79</td>\n",
       "      <td>0.25</td>\n",
       "      <td>...</td>\n",
       "      <td>0.52</td>\n",
       "      <td>2.48e-01</td>\n",
       "      <td>7.72e-01</td>\n",
       "      <td>0.91</td>\n",
       "      <td>-0.69</td>\n",
       "      <td>-0.33</td>\n",
       "      <td>-0.14</td>\n",
       "      <td>-5.54e-02</td>\n",
       "      <td>-0.06</td>\n",
       "      <td>0</td>\n",
       "    </tr>\n",
       "    <tr>\n",
       "      <th>3</th>\n",
       "      <td>1.42</td>\n",
       "      <td>-0.99</td>\n",
       "      <td>-0.97</td>\n",
       "      <td>-0.19</td>\n",
       "      <td>1.79</td>\n",
       "      <td>-0.86</td>\n",
       "      <td>-0.01</td>\n",
       "      <td>1.25</td>\n",
       "      <td>0.24</td>\n",
       "      <td>0.38</td>\n",
       "      <td>...</td>\n",
       "      <td>-0.21</td>\n",
       "      <td>-1.08e-01</td>\n",
       "      <td>5.27e-03</td>\n",
       "      <td>-0.19</td>\n",
       "      <td>-1.18</td>\n",
       "      <td>0.65</td>\n",
       "      <td>-0.22</td>\n",
       "      <td>6.27e-02</td>\n",
       "      <td>0.06</td>\n",
       "      <td>0</td>\n",
       "    </tr>\n",
       "    <tr>\n",
       "      <th>4</th>\n",
       "      <td>0.67</td>\n",
       "      <td>-0.99</td>\n",
       "      <td>-1.16</td>\n",
       "      <td>0.88</td>\n",
       "      <td>1.55</td>\n",
       "      <td>0.40</td>\n",
       "      <td>-0.41</td>\n",
       "      <td>0.10</td>\n",
       "      <td>0.59</td>\n",
       "      <td>-0.27</td>\n",
       "      <td>...</td>\n",
       "      <td>0.41</td>\n",
       "      <td>-9.43e-03</td>\n",
       "      <td>7.98e-01</td>\n",
       "      <td>-0.14</td>\n",
       "      <td>0.14</td>\n",
       "      <td>-0.21</td>\n",
       "      <td>0.50</td>\n",
       "      <td>2.19e-01</td>\n",
       "      <td>0.22</td>\n",
       "      <td>0</td>\n",
       "    </tr>\n",
       "  </tbody>\n",
       "</table>\n",
       "<p>5 rows × 31 columns</p>\n",
       "</div>"
      ],
      "text/plain": [
       "   scaled_amount  scaled_time    V1    V2    V3    V4    V5    V6    V7    V8  \\\n",
       "0           1.78        -0.99 -1.36 -0.07  2.54  1.38 -0.34  0.46  0.24  0.10   \n",
       "1          -0.27        -0.99  1.19  0.27  0.17  0.45  0.06 -0.08 -0.08  0.09   \n",
       "2           4.98        -0.99 -1.36 -1.34  1.77  0.38 -0.50  1.80  0.79  0.25   \n",
       "3           1.42        -0.99 -0.97 -0.19  1.79 -0.86 -0.01  1.25  0.24  0.38   \n",
       "4           0.67        -0.99 -1.16  0.88  1.55  0.40 -0.41  0.10  0.59 -0.27   \n",
       "\n",
       "   ...   V20       V21       V22   V23   V24   V25   V26       V27   V28  \\\n",
       "0  ...  0.25 -1.83e-02  2.78e-01 -0.11  0.07  0.13 -0.19  1.34e-01 -0.02   \n",
       "1  ... -0.07 -2.26e-01 -6.39e-01  0.10 -0.34  0.17  0.13 -8.98e-03  0.01   \n",
       "2  ...  0.52  2.48e-01  7.72e-01  0.91 -0.69 -0.33 -0.14 -5.54e-02 -0.06   \n",
       "3  ... -0.21 -1.08e-01  5.27e-03 -0.19 -1.18  0.65 -0.22  6.27e-02  0.06   \n",
       "4  ...  0.41 -9.43e-03  7.98e-01 -0.14  0.14 -0.21  0.50  2.19e-01  0.22   \n",
       "\n",
       "   Class  \n",
       "0      0  \n",
       "1      0  \n",
       "2      0  \n",
       "3      0  \n",
       "4      0  \n",
       "\n",
       "[5 rows x 31 columns]"
      ]
     },
     "execution_count": 13,
     "metadata": {},
     "output_type": "execute_result"
    }
   ],
   "source": [
    "df.head()"
   ]
  },
  {
   "cell_type": "markdown",
   "metadata": {},
   "source": [
    "## Sampling - Train Test"
   ]
  },
  {
   "cell_type": "code",
   "execution_count": 14,
   "metadata": {},
   "outputs": [
    {
     "name": "stdout",
     "output_type": "stream",
     "text": [
      "Train: [ 30473  30496  31002 ... 284804 284805 284806] Test: [    0     1     2 ... 57017 57018 57019]\n",
      "Train: [     0      1      2 ... 284804 284805 284806] Test: [ 30473  30496  31002 ... 113964 113965 113966]\n",
      "Train: [     0      1      2 ... 284804 284805 284806] Test: [ 81609  82400  83053 ... 170946 170947 170948]\n",
      "Train: [     0      1      2 ... 284804 284805 284806] Test: [150654 150660 150661 ... 227866 227867 227868]\n",
      "Train: [     0      1      2 ... 227866 227867 227868] Test: [212516 212644 213092 ... 284804 284805 284806]\n"
     ]
    }
   ],
   "source": [
    "from sklearn.model_selection import train_test_split\n",
    "from sklearn.model_selection import StratifiedKFold\n",
    "from sklearn.model_selection import StratifiedShuffleSplit\n",
    "\n",
    "\n",
    "X = df.drop('Class', axis=1)\n",
    "y = df['Class']\n",
    "\n",
    "cv = StratifiedKFold(n_splits=5, random_state=None, shuffle=False)\n",
    "\n",
    "for train_index, test_index in cv.split(X, y):\n",
    "    print(\"Train:\", train_index, \"Test:\", test_index)\n",
    "    raw_Xtrain, raw_Xtest = X.iloc[train_index], X.iloc[test_index]\n",
    "    raw_ytrain, raw_ytest = y.iloc[train_index], y.iloc[test_index]"
   ]
  },
  {
   "cell_type": "code",
   "execution_count": 15,
   "metadata": {},
   "outputs": [
    {
     "name": "stdout",
     "output_type": "stream",
     "text": [
      "----------------------------------------------------------------------------------------------------\n",
      "Class Distributions: \n",
      "\n",
      "[0.99827076 0.00172924]\n",
      "[0.99827952 0.00172048]\n"
     ]
    }
   ],
   "source": [
    "# See if both the train and test label distribution are similarly distributed\n",
    "train_unique_label, train_counts_label = np.unique(raw_ytrain, return_counts=True)\n",
    "test_unique_label, test_counts_label = np.unique(raw_ytest, return_counts=True)\n",
    "print('-' * 100)\n",
    "\n",
    "print('Class Distributions: \\n')\n",
    "print(train_counts_label/ len(raw_ytrain))\n",
    "print(test_counts_label/ len(raw_ytest))"
   ]
  },
  {
   "cell_type": "markdown",
   "metadata": {},
   "source": [
    "## Balancing the imbalanced dataset\n",
    "\n",
    "As can be seen that 99% of observations belong to majority class in both the train and test datasets. Thus, we need to first balance it. We will be using two different type of sampling\n",
    "- Random Undersampling\n",
    "- SMOTE (Over sampling)\n",
    "\n",
    "In undersampling, dataset will loose a mojor chunk of information as right now the majority class has more than 99% of the observations which will eventually be reduced down so that we have 50% observations of each of the classes. Thus, undersampling could be risky. However, we will still perform undersampling and compare it against SMOTE data."
   ]
  },
  {
   "cell_type": "code",
   "execution_count": 16,
   "metadata": {},
   "outputs": [
    {
     "data": {
      "text/html": [
       "<div>\n",
       "<style scoped>\n",
       "    .dataframe tbody tr th:only-of-type {\n",
       "        vertical-align: middle;\n",
       "    }\n",
       "\n",
       "    .dataframe tbody tr th {\n",
       "        vertical-align: top;\n",
       "    }\n",
       "\n",
       "    .dataframe thead th {\n",
       "        text-align: right;\n",
       "    }\n",
       "</style>\n",
       "<table border=\"1\" class=\"dataframe\">\n",
       "  <thead>\n",
       "    <tr style=\"text-align: right;\">\n",
       "      <th></th>\n",
       "      <th>scaled_amount</th>\n",
       "      <th>scaled_time</th>\n",
       "      <th>V1</th>\n",
       "      <th>V2</th>\n",
       "      <th>V3</th>\n",
       "      <th>V4</th>\n",
       "      <th>V5</th>\n",
       "      <th>V6</th>\n",
       "      <th>V7</th>\n",
       "      <th>V8</th>\n",
       "      <th>...</th>\n",
       "      <th>V20</th>\n",
       "      <th>V21</th>\n",
       "      <th>V22</th>\n",
       "      <th>V23</th>\n",
       "      <th>V24</th>\n",
       "      <th>V25</th>\n",
       "      <th>V26</th>\n",
       "      <th>V27</th>\n",
       "      <th>V28</th>\n",
       "      <th>Class</th>\n",
       "    </tr>\n",
       "  </thead>\n",
       "  <tbody>\n",
       "    <tr>\n",
       "      <th>121</th>\n",
       "      <td>-0.18</td>\n",
       "      <td>-9.94e-01</td>\n",
       "      <td>-0.43</td>\n",
       "      <td>0.75</td>\n",
       "      <td>1.76</td>\n",
       "      <td>-0.17</td>\n",
       "      <td>0.06</td>\n",
       "      <td>-0.21</td>\n",
       "      <td>0.65</td>\n",
       "      <td>0.07</td>\n",
       "      <td>...</td>\n",
       "      <td>0.05</td>\n",
       "      <td>-0.20</td>\n",
       "      <td>-0.43</td>\n",
       "      <td>0.01</td>\n",
       "      <td>0.16</td>\n",
       "      <td>-0.40</td>\n",
       "      <td>0.05</td>\n",
       "      <td>1.03e-01</td>\n",
       "      <td>-0.12</td>\n",
       "      <td>0</td>\n",
       "    </tr>\n",
       "    <tr>\n",
       "      <th>248296</th>\n",
       "      <td>-0.31</td>\n",
       "      <td>8.13e-01</td>\n",
       "      <td>-0.61</td>\n",
       "      <td>3.70</td>\n",
       "      <td>-5.53</td>\n",
       "      <td>5.62</td>\n",
       "      <td>1.65</td>\n",
       "      <td>-2.34</td>\n",
       "      <td>-0.91</td>\n",
       "      <td>0.71</td>\n",
       "      <td>...</td>\n",
       "      <td>0.35</td>\n",
       "      <td>0.32</td>\n",
       "      <td>-0.47</td>\n",
       "      <td>-0.08</td>\n",
       "      <td>-0.67</td>\n",
       "      <td>-0.64</td>\n",
       "      <td>0.07</td>\n",
       "      <td>4.88e-01</td>\n",
       "      <td>0.29</td>\n",
       "      <td>1</td>\n",
       "    </tr>\n",
       "    <tr>\n",
       "      <th>239</th>\n",
       "      <td>-0.03</td>\n",
       "      <td>-9.93e-01</td>\n",
       "      <td>1.17</td>\n",
       "      <td>0.47</td>\n",
       "      <td>0.01</td>\n",
       "      <td>1.26</td>\n",
       "      <td>0.12</td>\n",
       "      <td>-0.87</td>\n",
       "      <td>0.55</td>\n",
       "      <td>-0.28</td>\n",
       "      <td>...</td>\n",
       "      <td>-0.12</td>\n",
       "      <td>0.07</td>\n",
       "      <td>0.28</td>\n",
       "      <td>-0.10</td>\n",
       "      <td>0.43</td>\n",
       "      <td>0.74</td>\n",
       "      <td>-0.27</td>\n",
       "      <td>8.47e-03</td>\n",
       "      <td>0.02</td>\n",
       "      <td>0</td>\n",
       "    </tr>\n",
       "    <tr>\n",
       "      <th>239501</th>\n",
       "      <td>3.01</td>\n",
       "      <td>7.69e-01</td>\n",
       "      <td>-6.68</td>\n",
       "      <td>-2.71</td>\n",
       "      <td>-5.77</td>\n",
       "      <td>1.45</td>\n",
       "      <td>-0.66</td>\n",
       "      <td>-1.15</td>\n",
       "      <td>0.85</td>\n",
       "      <td>0.43</td>\n",
       "      <td>...</td>\n",
       "      <td>-1.93</td>\n",
       "      <td>0.22</td>\n",
       "      <td>1.19</td>\n",
       "      <td>0.34</td>\n",
       "      <td>0.22</td>\n",
       "      <td>0.80</td>\n",
       "      <td>0.04</td>\n",
       "      <td>-5.50e-02</td>\n",
       "      <td>0.08</td>\n",
       "      <td>1</td>\n",
       "    </tr>\n",
       "    <tr>\n",
       "      <th>143336</th>\n",
       "      <td>3.23</td>\n",
       "      <td>6.97e-03</td>\n",
       "      <td>-6.71</td>\n",
       "      <td>3.92</td>\n",
       "      <td>-9.75</td>\n",
       "      <td>5.15</td>\n",
       "      <td>-5.15</td>\n",
       "      <td>-2.10</td>\n",
       "      <td>-5.94</td>\n",
       "      <td>3.58</td>\n",
       "      <td>...</td>\n",
       "      <td>0.14</td>\n",
       "      <td>0.95</td>\n",
       "      <td>-0.45</td>\n",
       "      <td>0.13</td>\n",
       "      <td>-0.34</td>\n",
       "      <td>0.39</td>\n",
       "      <td>1.08</td>\n",
       "      <td>1.65e+00</td>\n",
       "      <td>-0.39</td>\n",
       "      <td>1</td>\n",
       "    </tr>\n",
       "  </tbody>\n",
       "</table>\n",
       "<p>5 rows × 31 columns</p>\n",
       "</div>"
      ],
      "text/plain": [
       "        scaled_amount  scaled_time    V1    V2    V3    V4    V5    V6    V7  \\\n",
       "121             -0.18    -9.94e-01 -0.43  0.75  1.76 -0.17  0.06 -0.21  0.65   \n",
       "248296          -0.31     8.13e-01 -0.61  3.70 -5.53  5.62  1.65 -2.34 -0.91   \n",
       "239             -0.03    -9.93e-01  1.17  0.47  0.01  1.26  0.12 -0.87  0.55   \n",
       "239501           3.01     7.69e-01 -6.68 -2.71 -5.77  1.45 -0.66 -1.15  0.85   \n",
       "143336           3.23     6.97e-03 -6.71  3.92 -9.75  5.15 -5.15 -2.10 -5.94   \n",
       "\n",
       "          V8  ...   V20   V21   V22   V23   V24   V25   V26       V27   V28  \\\n",
       "121     0.07  ...  0.05 -0.20 -0.43  0.01  0.16 -0.40  0.05  1.03e-01 -0.12   \n",
       "248296  0.71  ...  0.35  0.32 -0.47 -0.08 -0.67 -0.64  0.07  4.88e-01  0.29   \n",
       "239    -0.28  ... -0.12  0.07  0.28 -0.10  0.43  0.74 -0.27  8.47e-03  0.02   \n",
       "239501  0.43  ... -1.93  0.22  1.19  0.34  0.22  0.80  0.04 -5.50e-02  0.08   \n",
       "143336  3.58  ...  0.14  0.95 -0.45  0.13 -0.34  0.39  1.08  1.65e+00 -0.39   \n",
       "\n",
       "        Class  \n",
       "121         0  \n",
       "248296      1  \n",
       "239         0  \n",
       "239501      1  \n",
       "143336      1  \n",
       "\n",
       "[5 rows x 31 columns]"
      ]
     },
     "execution_count": 16,
     "metadata": {},
     "output_type": "execute_result"
    }
   ],
   "source": [
    "#Shuffling\n",
    "df.sample(frac=1)\n",
    "\n",
    "# Undersampling the majority class equal to the number of observations of the minorty class which is 492\n",
    "fraud = df.loc[df['Class'] == 1]\n",
    "non_fraud = df.loc[df['Class'] == 0][:492] \n",
    "\n",
    "#Concatinating results\n",
    "df_under = pd.concat([fraud,non_fraud])\n",
    "\n",
    "# Shuffling the data before Undersampling or oversampling\n",
    "df_under = df_under.sample(frac=1, random_state=42)\n",
    "\n",
    "df_under.head()"
   ]
  },
  {
   "cell_type": "code",
   "execution_count": 17,
   "metadata": {},
   "outputs": [
    {
     "name": "stdout",
     "output_type": "stream",
     "text": [
      "Class Distribution of Undersampled Data\n",
      "1    0.5\n",
      "0    0.5\n",
      "Name: Class, dtype: float64\n"
     ]
    },
    {
     "data": {
      "image/png": "[encoded data removed]",
      "text/plain": [
       "<Figure size 432x288 with 1 Axes>"
      ]
     },
     "metadata": {
      "needs_background": "light"
     },
     "output_type": "display_data"
    }
   ],
   "source": [
    "print('Class Distribution of Undersampled Data')\n",
    "print(df_under['Class'].value_counts()/len(df_under))\n",
    "\n",
    "sns.countplot('Class', data=df_under)\n",
    "plt.title('Class Distribution of Undersampled Data', fontsize=14)\n",
    "plt.show()"
   ]
  },
  {
   "cell_type": "markdown",
   "metadata": {},
   "source": [
    "## Finding Correlations\n",
    "The darker will be the color, more will be the correlation of that variable with the target variable. \n",
    "Higher the value of negative correlation coefficient, the more likely it will be a fraudulent transaction. "
   ]
  },
  {
   "cell_type": "code",
   "execution_count": 18,
   "metadata": {},
   "outputs": [
    {
     "data": {
      "image/png": "[encoded data removed]",
      "text/plain": [
       "<Figure size 864x576 with 2 Axes>"
      ]
     },
     "metadata": {
      "needs_background": "light"
     },
     "output_type": "display_data"
    }
   ],
   "source": [
    "# Make sure we use the subsample in our correlation\n",
    "plt.figure(figsize=(12,8))\n",
    "sub_sample_corr = df_under.corr()\n",
    "sns.heatmap(sub_sample_corr, cmap='coolwarm_r', annot_kws={'size':20})\n",
    "plt.title('Correlation Matrix - Undersampled Data', fontsize=14)\n",
    "plt.show()"
   ]
  },
  {
   "cell_type": "code",
   "execution_count": 19,
   "metadata": {},
   "outputs": [],
   "source": [
    "#Positive\n",
    "Positive = [\n",
    "'scaled_time',\n",
    "'V4',\n",
    "'V11',\n",
    "'V2']\n",
    "\n",
    "#Negative\n",
    "Negative = [\n",
    "'V14',\n",
    "'V12',\n",
    "'V3',\n",
    "'V10']\n",
    "\n",
    "All = ['scaled_time',\n",
    "'V4',\n",
    "'V11',\n",
    "'V2',\n",
    "'V14',\n",
    "'V12',\n",
    "'V3',\n",
    "'V10']"
   ]
  },
  {
   "cell_type": "code",
   "execution_count": 20,
   "metadata": {},
   "outputs": [],
   "source": [
    "def box_plot(data, feature):\n",
    "    f, axes = plt.subplots(ncols=4, figsize=(20,4))\n",
    "    for idx, val in enumerate(feature):\n",
    "        sns.boxplot(x = 'Class', y=val, data = data, ax = axes[idx])\n",
    "        axes[idx].set_title('{} vs Class Correlation'.format(val))\n",
    "    plt.show()"
   ]
  },
  {
   "cell_type": "code",
   "execution_count": 21,
   "metadata": {},
   "outputs": [
    {
     "data": {
      "image/png": "[encoded data removed]",
      "text/plain": [
       "<Figure size 1440x288 with 4 Axes>"
      ]
     },
     "metadata": {
      "needs_background": "light"
     },
     "output_type": "display_data"
    }
   ],
   "source": [
    "box_plot(df_under, Positive)"
   ]
  },
  {
   "cell_type": "code",
   "execution_count": 22,
   "metadata": {},
   "outputs": [
    {
     "data": {
      "image/png": "[encoded data removed]",
      "text/plain": [
       "<Figure size 1440x288 with 4 Axes>"
      ]
     },
     "metadata": {
      "needs_background": "light"
     },
     "output_type": "display_data"
    }
   ],
   "source": [
    "box_plot(df_under, Negative)"
   ]
  },
  {
   "cell_type": "markdown",
   "metadata": {},
   "source": [
    "As can be seen from the box plots, except 'scaled_time' every other features have outliers and it is a good practice to eliminate the outliers. Any observations lying above 75 percentile or below 25 percentile are considered outlier. However, we will not directly remove the these outliers, we will set a threshold a little above these boundary ranges and then remove the outliers so that we are not losing necessary information that an outlier can give.\n",
    "\n",
    "In this case, let us keep the threshold as 1.5 times the inter-quartile range. "
   ]
  },
  {
   "cell_type": "code",
   "execution_count": 23,
   "metadata": {},
   "outputs": [],
   "source": [
    "under = df_under"
   ]
  },
  {
   "cell_type": "code",
   "execution_count": 24,
   "metadata": {},
   "outputs": [],
   "source": [
    "def detect_outliers(data, feat_list):\n",
    "    for i in feat_list:\n",
    "        print('\\n{}:'.format(i))\n",
    "        val = data['{}'.format(i)].loc[data['Class']==1].values\n",
    "        q25, q75 = np.percentile(val, 25), np.percentile(val, 75)\n",
    "        print('Quartile 25: {} | Quartile 75: {}'.format(q25, q75))\n",
    "        iqr = q75 - q25\n",
    "        print('iqr: {}'.format(iqr))\n",
    "        cut_off = iqr * 1.5\n",
    "        lower, upper = q25 - cut_off, q75 + cut_off\n",
    "        print('{} Cut Off: {}'.format(i, cut_off))\n",
    "        print('{} Lower Limit: {}'.format(i, lower))\n",
    "        print('{} Upper Limit: {}'.format(i, upper))\n",
    "        outliers = [x for x in val if x < lower or x > upper]\n",
    "        print('Feature {} Outliers for Fraud Cases: {}'.format(i,len(outliers)))\n",
    "        print('{} outliers:{}'.format(i,outliers),'\\n --------------')\n",
    "        print(data[(data[i] > upper) | (data[i] < lower)].index)\n",
    "        data = data[(data[i] < upper) & (data[i] > lower)]\n",
    "    return data"
   ]
  },
  {
   "cell_type": "code",
   "execution_count": 25,
   "metadata": {},
   "outputs": [
    {
     "name": "stdout",
     "output_type": "stream",
     "text": [
      "\n",
      "scaled_time:\n",
      "Quartile 25: -0.5104676981637473 | Quartile 75: 0.5144679801219469\n",
      "iqr: 1.0249356782856942\n",
      "scaled_time Cut Off: 1.5374035174285412\n",
      "scaled_time Lower Limit: -2.0478712155922887\n",
      "scaled_time Upper Limit: 2.051871497550488\n",
      "Feature scaled_time Outliers for Fraud Cases: 0\n",
      "scaled_time outliers:[] \n",
      " --------------\n",
      "Int64Index([], dtype='int64')\n",
      "\n",
      "V4:\n",
      "Quartile 25: 2.373049531845565 | Quartile 75: 6.348729456714095\n",
      "iqr: 3.9756799248685297\n",
      "V4 Cut Off: 5.963519887302795\n",
      "V4 Lower Limit: -3.5904703554572297\n",
      "V4 Upper Limit: 12.31224934401689\n",
      "Feature V4 Outliers for Fraud Cases: 0\n",
      "V4 outliers:[] \n",
      " --------------\n",
      "Int64Index([83, 351], dtype='int64')\n",
      "\n",
      "V11:\n",
      "Quartile 25: 1.973396660607005 | Quartile 75: 5.307077600096335\n",
      "iqr: 3.33368093948933\n",
      "V11 Cut Off: 5.000521409233995\n",
      "V11 Lower Limit: -3.0271247486269903\n",
      "V11 Upper Limit: 10.30759900933033\n",
      "Feature V11 Outliers for Fraud Cases: 10\n",
      "V11 outliers:[11.6692047358121, 12.018913181619899, 11.6197234753825, 11.0270590938161, 10.5452629545898, 11.152490598583698, 11.277920727806698, 11.228470279576001, 10.8530116481991, 10.446846814514] \n",
      " --------------\n",
      "Int64Index([9035, 8296, 8615, 10568, 10801, 9509, 9487, 9252, 8335, 9179], dtype='int64')\n",
      "\n",
      "V2:\n",
      "Quartile 25: 1.1770779698648974 | Quartile 75: 4.664871401413436\n",
      "iqr: 3.487793431548538\n",
      "V2 Cut Off: 5.231690147322807\n",
      "V2 Lower Limit: -4.054612177457909\n",
      "V2 Upper Limit: 9.896561548736242\n",
      "Feature V2 Outliers for Fraud Cases: 51\n",
      "V2 outliers:[12.9305051249875, 13.208904284417601, 15.598192662555402, 10.8196653713117, 14.044566781510598, 22.0577289904909, 12.095893225929899, -6.976420007546411, 10.5586001882538, 14.6019980426299, 16.6978316913154, 11.614800542586698, -7.15904171709445, 16.1557014298057, 12.6521968313004, 16.497471901867, 15.876922987953598, 15.53613332478, 10.114815724665402, 12.785970638297998, -8.402153677689151, 16.497471901867, 12.785970638297998, 16.4345245512223, 16.497471901867, 12.864988563015, 13.7659421584186, 11.586380519818402, 15.3658043803315, 12.3525186682391, 19.167239010306197, 12.572117853538499, 13.4873857909274, 10.3939171427504, -7.19697963053735, 10.4325276778611, 12.785970638297998, 12.785970638297998, 12.785970638297998, 16.497471901867, 12.785970638297998, 11.817921989785301, 12.3739891389716, 21.4672029942752, -7.4490151587267395, -4.8144607395562105, 16.7133892350242, 10.5417508026636, 14.7063346696674, 14.323253809723301, -5.1983601992332895] \n",
      " --------------\n",
      "Int64Index([ 15506,  15539,  17317,  14211,  15751, 154684,  15225,  82400,\n",
      "             12369,  15810, 154234, 151462, 176049,  17407,  15476,    164,\n",
      "            151008,  17366, 153835,  12261, 102443, 274382, 151009, 102444,\n",
      "             17453, 151006, 152223,  15736,     89,  15166,  16780, 152295,\n",
      "            154371, 151519,  15566,  14170, 258403, 151011,    401, 102441,\n",
      "            102445, 102442,    249, 151007,    450,     85, 102446,  15204,\n",
      "               468,  15451, 154587, 249607,  83297,    210,  17480,     18,\n",
      "             14197, 153823,  15781,  33276],\n",
      "           dtype='int64')\n",
      "\n",
      "V14:\n",
      "Quartile 25: -9.835626804861107 | Quartile 75: -4.23641575838216\n",
      "iqr: 5.599211046478947\n",
      "V14 Cut Off: 8.39881656971842\n",
      "V14 Lower Limit: -18.234443374579527\n",
      "V14 Upper Limit: 4.16240081133626\n",
      "Feature V14 Outliers for Fraud Cases: 0\n",
      "V14 outliers:[] \n",
      " --------------\n",
      "Int64Index([], dtype='int64')\n",
      "\n",
      "V12:\n",
      "Quartile 25: -8.261869415046055 | Quartile 75: -2.773685173098185\n",
      "iqr: 5.48818424194787\n",
      "V12 Cut Off: 8.232276362921805\n",
      "V12 Lower Limit: -16.49414577796786\n",
      "V12 Upper Limit: 5.45859118982362\n",
      "Feature V12 Outliers for Fraud Cases: 9\n",
      "V12 outliers:[-17.003289445516, -18.683714633344298, -17.1829184301947, -18.4311310279993, -17.003289445516, -17.1504052507291, -17.1829184301947, -18.047596570821604, -18.553697009645802] \n",
      " --------------\n",
      "Int64Index([150662, 150644, 150661, 150654, 150663, 150665, 150660, 150601,\n",
      "            150647],\n",
      "           dtype='int64')\n",
      "\n",
      "V3:\n",
      "Quartile 25: -6.5522230496645 | Quartile 75: -1.9615705546221598\n",
      "iqr: 4.59065249504234\n",
      "V3 Cut Off: 6.88597874256351\n",
      "V3 Lower Limit: -13.43820179222801\n",
      "V3 Upper Limit: 4.92440818794135\n",
      "Feature V3 Outliers for Fraud Cases: 34\n",
      "V3 outliers:[-19.947726046163, -13.987751638838802, -18.572307456296002, -17.6810718207918, -18.256576111808, -21.872317364456602, -20.4919522106577, -18.256576111808, -16.760583409542, -15.0763627200288, -16.356367356494, -18.649853185194498, -22.8046864614815, -13.510931139094998, -13.443114502751401, -13.455635942557098, -16.5870729373632, -17.6810718207918, -22.3385905133352, -13.7700011356219, -21.405835744128, -23.736443410521602, -16.760583409542, -14.1823387841287, -16.2980905380446, -19.0269123426632, -17.880126820797397, -20.134992104854, -14.281666443247099, -23.270630523285604, -16.5826057272747, -16.9625296493409, -20.4919522106577, -16.8672384869515] \n",
      " --------------\n",
      "Int64Index([ 44270,  64460, 150715, 150669, 150677,  11710, 150680, 150678,\n",
      "            150666, 150687,  43204,  43428,  11880,  10630,  64411,  42936,\n",
      "             10891, 150668,  11841,  42945,  11343,  12108, 150667,  42784,\n",
      "             43061,  10897,  43681,  44223,  42958,  12070, 150925, 150697,\n",
      "            150679,  43160],\n",
      "           dtype='int64')\n",
      "\n",
      "V10:\n",
      "Quartile 25: -5.579262542305788 | Quartile 75: -2.115509824215695\n",
      "iqr: 3.4637527180900927\n",
      "V10 Cut Off: 5.195629077135139\n",
      "V10 Lower Limit: -10.774891619440927\n",
      "V10 Upper Limit: 3.0801192529194443\n",
      "Feature V10 Outliers for Fraud Cases: 20\n",
      "V10 outliers:[-12.618162687238, -12.4389449056023, -13.2151722995049, -11.2014000859835, -12.2653238444006, -13.0740681657723, -13.6913151328525, -11.435623996076, -12.981619145004, 4.03143505114991, -11.589748311433, -11.519860926414198, -12.835737682533901, -11.6344144245911, -11.298156491538201, -13.386683439524601, -12.805683189811699, -11.1412776902967, 3.24508640095346, -12.8881582878915] \n",
      " --------------\n",
      "Int64Index([   190, 150692, 150684,  42741,  10690,    225,    362,  42696,\n",
      "             42887,    146,  41943,  42549,  42590, 213092,  42674,  42635,\n",
      "             42856,  42609,  42473,  42700,  42769,  42528,  20198,     82,\n",
      "               290,  42756],\n",
      "           dtype='int64')\n"
     ]
    }
   ],
   "source": [
    "undersample = detect_outliers(under, All)"
   ]
  },
  {
   "cell_type": "code",
   "execution_count": 26,
   "metadata": {},
   "outputs": [
    {
     "name": "stdout",
     "output_type": "stream",
     "text": [
      "984\n",
      "843\n"
     ]
    }
   ],
   "source": [
    "print(len(df_under))\n",
    "print(len(undersample))\n"
   ]
  },
  {
   "cell_type": "code",
   "execution_count": 27,
   "metadata": {},
   "outputs": [
    {
     "data": {
      "text/html": [
       "<div>\n",
       "<style scoped>\n",
       "    .dataframe tbody tr th:only-of-type {\n",
       "        vertical-align: middle;\n",
       "    }\n",
       "\n",
       "    .dataframe tbody tr th {\n",
       "        vertical-align: top;\n",
       "    }\n",
       "\n",
       "    .dataframe thead th {\n",
       "        text-align: right;\n",
       "    }\n",
       "</style>\n",
       "<table border=\"1\" class=\"dataframe\">\n",
       "  <thead>\n",
       "    <tr style=\"text-align: right;\">\n",
       "      <th></th>\n",
       "      <th>scaled_time</th>\n",
       "      <th>V4</th>\n",
       "      <th>V11</th>\n",
       "      <th>V2</th>\n",
       "      <th>V14</th>\n",
       "      <th>V12</th>\n",
       "      <th>V3</th>\n",
       "      <th>V10</th>\n",
       "    </tr>\n",
       "  </thead>\n",
       "  <tbody>\n",
       "    <tr>\n",
       "      <th>count</th>\n",
       "      <td>843.00</td>\n",
       "      <td>843.00</td>\n",
       "      <td>843.00</td>\n",
       "      <td>843.00</td>\n",
       "      <td>843.00</td>\n",
       "      <td>843.00</td>\n",
       "      <td>843.00</td>\n",
       "      <td>843.00</td>\n",
       "    </tr>\n",
       "    <tr>\n",
       "      <th>mean</th>\n",
       "      <td>-0.54</td>\n",
       "      <td>1.74</td>\n",
       "      <td>1.33</td>\n",
       "      <td>1.02</td>\n",
       "      <td>-2.69</td>\n",
       "      <td>-1.82</td>\n",
       "      <td>-1.17</td>\n",
       "      <td>-1.57</td>\n",
       "    </tr>\n",
       "    <tr>\n",
       "      <th>std</th>\n",
       "      <td>0.64</td>\n",
       "      <td>2.25</td>\n",
       "      <td>2.08</td>\n",
       "      <td>1.61</td>\n",
       "      <td>3.75</td>\n",
       "      <td>3.15</td>\n",
       "      <td>3.05</td>\n",
       "      <td>2.46</td>\n",
       "    </tr>\n",
       "    <tr>\n",
       "      <th>min</th>\n",
       "      <td>-0.99</td>\n",
       "      <td>-3.15</td>\n",
       "      <td>-2.33</td>\n",
       "      <td>-3.94</td>\n",
       "      <td>-14.27</td>\n",
       "      <td>-11.35</td>\n",
       "      <td>-12.90</td>\n",
       "      <td>-9.33</td>\n",
       "    </tr>\n",
       "    <tr>\n",
       "      <th>25%</th>\n",
       "      <td>-0.99</td>\n",
       "      <td>0.18</td>\n",
       "      <td>-0.32</td>\n",
       "      <td>0.05</td>\n",
       "      <td>-5.20</td>\n",
       "      <td>-3.77</td>\n",
       "      <td>-3.38</td>\n",
       "      <td>-3.23</td>\n",
       "    </tr>\n",
       "    <tr>\n",
       "      <th>50%</th>\n",
       "      <td>-0.99</td>\n",
       "      <td>1.19</td>\n",
       "      <td>0.97</td>\n",
       "      <td>0.75</td>\n",
       "      <td>-0.59</td>\n",
       "      <td>-0.28</td>\n",
       "      <td>0.09</td>\n",
       "      <td>-0.40</td>\n",
       "    </tr>\n",
       "    <tr>\n",
       "      <th>75%</th>\n",
       "      <td>-0.16</td>\n",
       "      <td>3.05</td>\n",
       "      <td>2.65</td>\n",
       "      <td>1.80</td>\n",
       "      <td>0.05</td>\n",
       "      <td>0.43</td>\n",
       "      <td>1.06</td>\n",
       "      <td>0.06</td>\n",
       "    </tr>\n",
       "    <tr>\n",
       "      <th>max</th>\n",
       "      <td>1.01</td>\n",
       "      <td>8.43</td>\n",
       "      <td>7.86</td>\n",
       "      <td>7.37</td>\n",
       "      <td>3.44</td>\n",
       "      <td>2.15</td>\n",
       "      <td>3.77</td>\n",
       "      <td>3.01</td>\n",
       "    </tr>\n",
       "  </tbody>\n",
       "</table>\n",
       "</div>"
      ],
      "text/plain": [
       "       scaled_time      V4     V11      V2     V14     V12      V3     V10\n",
       "count       843.00  843.00  843.00  843.00  843.00  843.00  843.00  843.00\n",
       "mean         -0.54    1.74    1.33    1.02   -2.69   -1.82   -1.17   -1.57\n",
       "std           0.64    2.25    2.08    1.61    3.75    3.15    3.05    2.46\n",
       "min          -0.99   -3.15   -2.33   -3.94  -14.27  -11.35  -12.90   -9.33\n",
       "25%          -0.99    0.18   -0.32    0.05   -5.20   -3.77   -3.38   -3.23\n",
       "50%          -0.99    1.19    0.97    0.75   -0.59   -0.28    0.09   -0.40\n",
       "75%          -0.16    3.05    2.65    1.80    0.05    0.43    1.06    0.06\n",
       "max           1.01    8.43    7.86    7.37    3.44    2.15    3.77    3.01"
      ]
     },
     "execution_count": 27,
     "metadata": {},
     "output_type": "execute_result"
    }
   ],
   "source": [
    "undersample[All].describe()"
   ]
  },
  {
   "cell_type": "code",
   "execution_count": 28,
   "metadata": {},
   "outputs": [
    {
     "data": {
      "image/png": "[encoded data removed]",
      "text/plain": [
       "<Figure size 1440x288 with 4 Axes>"
      ]
     },
     "metadata": {
      "needs_background": "light"
     },
     "output_type": "display_data"
    }
   ],
   "source": [
    "box_plot(undersample, Positive)"
   ]
  },
  {
   "cell_type": "code",
   "execution_count": 29,
   "metadata": {},
   "outputs": [],
   "source": [
    "# Undersampling before cross validating (prone to overfit)\n",
    "def dataset_X(data):\n",
    "    xx = data.drop('Class', axis=1)\n",
    "    return xx\n",
    "\n",
    "def dataset_y(data):\n",
    "    yy = data['Class']\n",
    "    return yy"
   ]
  },
  {
   "cell_type": "code",
   "execution_count": 54,
   "metadata": {},
   "outputs": [],
   "source": [
    "X = dataset_X(undersample)\n",
    "y = dataset_y(undersample)"
   ]
  },
  {
   "cell_type": "code",
   "execution_count": 31,
   "metadata": {},
   "outputs": [],
   "source": [
    "# Our data is already scaled we should split our training and test sets\n",
    "from sklearn.model_selection import train_test_split\n",
    "\n",
    "# This is explicitly used for undersampling.\n",
    "X_train, X_test, y_train, y_test = train_test_split(X, y, test_size=0.2, random_state=42)\n",
    "\n",
    "# Turn the values into an array for feeding the classification algorithms.\n",
    "X_train = X_train.values\n",
    "X_test = X_test.values\n",
    "y_train = y_train.values\n",
    "y_test = y_test.values"
   ]
  },
  {
   "cell_type": "markdown",
   "metadata": {},
   "source": [
    "## Building Prediction Function"
   ]
  },
  {
   "cell_type": "code",
   "execution_count": 87,
   "metadata": {},
   "outputs": [],
   "source": [
    "tn, fp, fn, tp = 0, 0, 0, 0\n",
    "Accuracy = 0\n",
    "y_pred = []\n",
    "cm = []\n",
    "\n",
    "def prediction(Model, Xtest_data, ytest_data):\n",
    "    y_pred = Model.predict(Xtest_data)\n",
    "    cm = confusion_matrix(ytest_data, y_pred)\n",
    "    print('Confusion Matrix: \\n{}\\n'.format(cm))\n",
    "    \n",
    "    tn, fp, fn, tp = confusion_matrix(y_test, y_pred).ravel()\n",
    "    print(\"True Negatives: \",tn)\n",
    "    print(\"False Positives: \",fp)\n",
    "    print(\"False Negatives: \",fn)\n",
    "    print(\"True Positives: \",tp)\n",
    "    \n",
    "    Accuracy = (tn+tp)*100/(tp+tn+fp+fn) \n",
    "    print('---' * 40)\n",
    "    print('Recall Score: {:.2f}'.format(recall_score(ytest_data, y_pred)))\n",
    "    print('Precision Score: {:.2f}'.format(precision_score(ytest_data, y_pred)))\n",
    "    print('F1 Score: {:.2f}'.format(f1_score(ytest_data, y_pred)))\n",
    "    print('Accuracy Score: {:.2f}'.format(accuracy_score(ytest_data, y_pred)))\n",
    "    print('---' * 40)\n",
    "    return print(\"\\nAccuracy of the model in predicting fraud is {}%\".format(Accuracy))"
   ]
  },
  {
   "cell_type": "markdown",
   "metadata": {},
   "source": [
    "## K Nearest Neighbor Model"
   ]
  },
  {
   "cell_type": "code",
   "execution_count": 33,
   "metadata": {},
   "outputs": [
    {
     "data": {
      "text/plain": [
       "KNeighborsClassifier(algorithm='auto', leaf_size=30, metric='minkowski',\n",
       "           metric_params=None, n_jobs=None, n_neighbors=10, p=2,\n",
       "           weights='uniform')"
      ]
     },
     "execution_count": 33,
     "metadata": {},
     "output_type": "execute_result"
    }
   ],
   "source": [
    "from sklearn.neighbors import KNeighborsClassifier\n",
    "classifier = KNeighborsClassifier(n_neighbors = 10, metric = 'minkowski', p = 2)\n",
    "classifier.fit(X_train, y_train)"
   ]
  },
  {
   "cell_type": "code",
   "execution_count": 88,
   "metadata": {},
   "outputs": [
    {
     "name": "stdout",
     "output_type": "stream",
     "text": [
      "Confusion Matrix: \n",
      "[[99  0]\n",
      " [ 0 70]]\n",
      "\n",
      "True Negatives:  99\n",
      "False Positives:  0\n",
      "False Negatives:  0\n",
      "True Positives:  70\n",
      "------------------------------------------------------------------------------------------------------------------------\n",
      "Recall Score: 1.00\n",
      "Precision Score: 1.00\n",
      "F1 Score: 1.00\n",
      "Accuracy Score: 1.00\n",
      "------------------------------------------------------------------------------------------------------------------------\n",
      "\n",
      "Accuracy of the model in predicting fraud is 100.0%\n"
     ]
    }
   ],
   "source": [
    "prediction(classifier, X_test, y_test)"
   ]
  },
  {
   "cell_type": "markdown",
   "metadata": {},
   "source": [
    "## Logistic Regression"
   ]
  },
  {
   "cell_type": "code",
   "execution_count": 49,
   "metadata": {},
   "outputs": [
    {
     "name": "stderr",
     "output_type": "stream",
     "text": [
      "C:\\Users\\Shakya Work\\Anaconda3\\lib\\site-packages\\sklearn\\linear_model\\logistic.py:433: FutureWarning: Default solver will be changed to 'lbfgs' in 0.22. Specify a solver to silence this warning.\n",
      "  FutureWarning)\n"
     ]
    },
    {
     "data": {
      "text/plain": [
       "LogisticRegression(C=1.0, class_weight=None, dual=False, fit_intercept=True,\n",
       "          intercept_scaling=1, max_iter=100, multi_class='warn',\n",
       "          n_jobs=None, penalty='l2', random_state=0, solver='warn',\n",
       "          tol=0.0001, verbose=0, warm_start=False)"
      ]
     },
     "execution_count": 49,
     "metadata": {},
     "output_type": "execute_result"
    }
   ],
   "source": [
    "from sklearn.linear_model import LogisticRegression\n",
    "glm = LogisticRegression(random_state = 0)\n",
    "glm.fit(X_train, y_train)"
   ]
  },
  {
   "cell_type": "code",
   "execution_count": 89,
   "metadata": {},
   "outputs": [
    {
     "name": "stdout",
     "output_type": "stream",
     "text": [
      "Confusion Matrix: \n",
      "[[98  1]\n",
      " [ 1 69]]\n",
      "\n",
      "True Negatives:  98\n",
      "False Positives:  1\n",
      "False Negatives:  1\n",
      "True Positives:  69\n",
      "------------------------------------------------------------------------------------------------------------------------\n",
      "Recall Score: 0.99\n",
      "Precision Score: 0.99\n",
      "F1 Score: 0.99\n",
      "Accuracy Score: 0.99\n",
      "------------------------------------------------------------------------------------------------------------------------\n",
      "\n",
      "Accuracy of the model in predicting fraud is 98.81656804733728%\n"
     ]
    }
   ],
   "source": [
    "prediction(glm, X_test, y_test)"
   ]
  },
  {
   "cell_type": "markdown",
   "metadata": {},
   "source": [
    "## Support Vector Machine"
   ]
  },
  {
   "cell_type": "markdown",
   "metadata": {},
   "source": [
    "Before we directly apply this model, let us first check the linearity of the data. If they do not seem linear, we will use Kernal Methods.\n",
    "In order to check the linearity, we will apply Linear regression and check how good is the least square error. If the least square error shows high accuracy, dataset is linear in nature."
   ]
  },
  {
   "cell_type": "code",
   "execution_count": 55,
   "metadata": {},
   "outputs": [
    {
     "name": "stdout",
     "output_type": "stream",
     "text": [
      "0.794835305858312\n"
     ]
    }
   ],
   "source": [
    "from sklearn.linear_model import LinearRegression\n",
    "regressor = LinearRegression().fit(X, y)\n",
    "# Checking the accuracy\n",
    "from sklearn.metrics import r2_score\n",
    "print(r2_score(regressor.predict(X), y))"
   ]
  },
  {
   "cell_type": "markdown",
   "metadata": {},
   "source": [
    "The data shows high least square accuracy of 80%, thus, the data is linear in nature."
   ]
  },
  {
   "cell_type": "code",
   "execution_count": 51,
   "metadata": {},
   "outputs": [
    {
     "data": {
      "text/plain": [
       "SVC(C=1.0, cache_size=200, class_weight=None, coef0=0.0,\n",
       "  decision_function_shape='ovr', degree=3, gamma='auto_deprecated',\n",
       "  kernel='linear', max_iter=-1, probability=False, random_state=None,\n",
       "  shrinking=True, tol=0.001, verbose=False)"
      ]
     },
     "execution_count": 51,
     "metadata": {},
     "output_type": "execute_result"
    }
   ],
   "source": [
    "from sklearn.svm import SVC\n",
    "svclassifier = SVC(kernel='linear')\n",
    "svclassifier.fit(X_train, y_train)"
   ]
  },
  {
   "cell_type": "code",
   "execution_count": 90,
   "metadata": {},
   "outputs": [
    {
     "name": "stdout",
     "output_type": "stream",
     "text": [
      "Confusion Matrix: \n",
      "[[98  1]\n",
      " [ 0 70]]\n",
      "\n",
      "True Negatives:  98\n",
      "False Positives:  1\n",
      "False Negatives:  0\n",
      "True Positives:  70\n",
      "------------------------------------------------------------------------------------------------------------------------\n",
      "Recall Score: 1.00\n",
      "Precision Score: 0.99\n",
      "F1 Score: 0.99\n",
      "Accuracy Score: 0.99\n",
      "------------------------------------------------------------------------------------------------------------------------\n",
      "\n",
      "Accuracy of the model in predicting fraud is 99.40828402366864%\n"
     ]
    }
   ],
   "source": [
    "prediction(svclassifier,X_test, y_test)"
   ]
  },
  {
   "cell_type": "markdown",
   "metadata": {},
   "source": [
    "## Cross Validation on Under Sampled Data"
   ]
  },
  {
   "cell_type": "code",
   "execution_count": 61,
   "metadata": {},
   "outputs": [],
   "source": [
    "# Let's implement simple classifiers\n",
    "from sklearn.tree import DecisionTreeClassifier\n",
    "classifiers = {\n",
    "    \"LogisiticRegression\": LogisticRegression(solver='lbfgs'),\n",
    "    \"KNearest\": KNeighborsClassifier(),\n",
    "    \"Support Vector Classifier\": SVC(gamma='scale'),\n",
    "    \"DecisionTreeClassifier\": DecisionTreeClassifier()\n",
    "}"
   ]
  },
  {
   "cell_type": "code",
   "execution_count": 69,
   "metadata": {},
   "outputs": [
    {
     "name": "stdout",
     "output_type": "stream",
     "text": [
      "Classifiers:  LogisticRegression Has a training score of 98.0 % accuracy score\n",
      "Classifiers:  KNeighborsClassifier Has a training score of 94.0 % accuracy score\n",
      "Classifiers:  SVC Has a training score of 95.0 % accuracy score\n",
      "Classifiers:  DecisionTreeClassifier Has a training score of 100.0 % accuracy score\n"
     ]
    }
   ],
   "source": [
    "from sklearn.model_selection import cross_val_score\n",
    "for key, classifier in classifiers.items():\n",
    "    classifier.fit(X_train, y_train)\n",
    "    training_score = cross_val_score(classifier, X_train, y_train, cv=5)\n",
    "    print(\"Classifiers: \", classifier.__class__.__name__, \"Has a training score of\", round(training_score.mean(), 2) * 100, \"% accuracy score\")"
   ]
  },
  {
   "cell_type": "code",
   "execution_count": 72,
   "metadata": {},
   "outputs": [
    {
     "name": "stderr",
     "output_type": "stream",
     "text": [
      "C:\\Users\\Shakya Work\\Anaconda3\\lib\\site-packages\\sklearn\\model_selection\\_split.py:2053: FutureWarning: You should specify a value for 'cv' instead of relying on the default value. The default value will change from 3 to 5 in version 0.22.\n",
      "  warnings.warn(CV_WARNING, FutureWarning)\n",
      "C:\\Users\\Shakya Work\\Anaconda3\\lib\\site-packages\\sklearn\\linear_model\\logistic.py:433: FutureWarning: Default solver will be changed to 'lbfgs' in 0.22. Specify a solver to silence this warning.\n",
      "  FutureWarning)\n",
      "C:\\Users\\Shakya Work\\Anaconda3\\lib\\site-packages\\sklearn\\linear_model\\logistic.py:433: FutureWarning: Default solver will be changed to 'lbfgs' in 0.22. Specify a solver to silence this warning.\n",
      "  FutureWarning)\n",
      "C:\\Users\\Shakya Work\\Anaconda3\\lib\\site-packages\\sklearn\\linear_model\\logistic.py:433: FutureWarning: Default solver will be changed to 'lbfgs' in 0.22. Specify a solver to silence this warning.\n",
      "  FutureWarning)\n",
      "C:\\Users\\Shakya Work\\Anaconda3\\lib\\site-packages\\sklearn\\linear_model\\logistic.py:433: FutureWarning: Default solver will be changed to 'lbfgs' in 0.22. Specify a solver to silence this warning.\n",
      "  FutureWarning)\n",
      "C:\\Users\\Shakya Work\\Anaconda3\\lib\\site-packages\\sklearn\\linear_model\\logistic.py:433: FutureWarning: Default solver will be changed to 'lbfgs' in 0.22. Specify a solver to silence this warning.\n",
      "  FutureWarning)\n",
      "C:\\Users\\Shakya Work\\Anaconda3\\lib\\site-packages\\sklearn\\linear_model\\logistic.py:433: FutureWarning: Default solver will be changed to 'lbfgs' in 0.22. Specify a solver to silence this warning.\n",
      "  FutureWarning)\n",
      "C:\\Users\\Shakya Work\\Anaconda3\\lib\\site-packages\\sklearn\\linear_model\\logistic.py:433: FutureWarning: Default solver will be changed to 'lbfgs' in 0.22. Specify a solver to silence this warning.\n",
      "  FutureWarning)\n",
      "C:\\Users\\Shakya Work\\Anaconda3\\lib\\site-packages\\sklearn\\linear_model\\logistic.py:433: FutureWarning: Default solver will be changed to 'lbfgs' in 0.22. Specify a solver to silence this warning.\n",
      "  FutureWarning)\n",
      "C:\\Users\\Shakya Work\\Anaconda3\\lib\\site-packages\\sklearn\\linear_model\\logistic.py:433: FutureWarning: Default solver will be changed to 'lbfgs' in 0.22. Specify a solver to silence this warning.\n",
      "  FutureWarning)\n",
      "C:\\Users\\Shakya Work\\Anaconda3\\lib\\site-packages\\sklearn\\linear_model\\logistic.py:433: FutureWarning: Default solver will be changed to 'lbfgs' in 0.22. Specify a solver to silence this warning.\n",
      "  FutureWarning)\n",
      "C:\\Users\\Shakya Work\\Anaconda3\\lib\\site-packages\\sklearn\\linear_model\\logistic.py:433: FutureWarning: Default solver will be changed to 'lbfgs' in 0.22. Specify a solver to silence this warning.\n",
      "  FutureWarning)\n",
      "C:\\Users\\Shakya Work\\Anaconda3\\lib\\site-packages\\sklearn\\linear_model\\logistic.py:433: FutureWarning: Default solver will be changed to 'lbfgs' in 0.22. Specify a solver to silence this warning.\n",
      "  FutureWarning)\n",
      "C:\\Users\\Shakya Work\\Anaconda3\\lib\\site-packages\\sklearn\\linear_model\\logistic.py:433: FutureWarning: Default solver will be changed to 'lbfgs' in 0.22. Specify a solver to silence this warning.\n",
      "  FutureWarning)\n",
      "C:\\Users\\Shakya Work\\Anaconda3\\lib\\site-packages\\sklearn\\linear_model\\logistic.py:433: FutureWarning: Default solver will be changed to 'lbfgs' in 0.22. Specify a solver to silence this warning.\n",
      "  FutureWarning)\n",
      "C:\\Users\\Shakya Work\\Anaconda3\\lib\\site-packages\\sklearn\\linear_model\\logistic.py:433: FutureWarning: Default solver will be changed to 'lbfgs' in 0.22. Specify a solver to silence this warning.\n",
      "  FutureWarning)\n",
      "C:\\Users\\Shakya Work\\Anaconda3\\lib\\site-packages\\sklearn\\linear_model\\logistic.py:433: FutureWarning: Default solver will be changed to 'lbfgs' in 0.22. Specify a solver to silence this warning.\n",
      "  FutureWarning)\n",
      "C:\\Users\\Shakya Work\\Anaconda3\\lib\\site-packages\\sklearn\\linear_model\\logistic.py:433: FutureWarning: Default solver will be changed to 'lbfgs' in 0.22. Specify a solver to silence this warning.\n",
      "  FutureWarning)\n",
      "C:\\Users\\Shakya Work\\Anaconda3\\lib\\site-packages\\sklearn\\linear_model\\logistic.py:433: FutureWarning: Default solver will be changed to 'lbfgs' in 0.22. Specify a solver to silence this warning.\n",
      "  FutureWarning)\n",
      "C:\\Users\\Shakya Work\\Anaconda3\\lib\\site-packages\\sklearn\\linear_model\\logistic.py:433: FutureWarning: Default solver will be changed to 'lbfgs' in 0.22. Specify a solver to silence this warning.\n",
      "  FutureWarning)\n",
      "C:\\Users\\Shakya Work\\Anaconda3\\lib\\site-packages\\sklearn\\linear_model\\logistic.py:433: FutureWarning: Default solver will be changed to 'lbfgs' in 0.22. Specify a solver to silence this warning.\n",
      "  FutureWarning)\n",
      "C:\\Users\\Shakya Work\\Anaconda3\\lib\\site-packages\\sklearn\\linear_model\\logistic.py:433: FutureWarning: Default solver will be changed to 'lbfgs' in 0.22. Specify a solver to silence this warning.\n",
      "  FutureWarning)\n",
      "C:\\Users\\Shakya Work\\Anaconda3\\lib\\site-packages\\sklearn\\linear_model\\logistic.py:433: FutureWarning: Default solver will be changed to 'lbfgs' in 0.22. Specify a solver to silence this warning.\n",
      "  FutureWarning)\n",
      "C:\\Users\\Shakya Work\\Anaconda3\\lib\\site-packages\\sklearn\\linear_model\\logistic.py:433: FutureWarning: Default solver will be changed to 'lbfgs' in 0.22. Specify a solver to silence this warning.\n",
      "  FutureWarning)\n",
      "C:\\Users\\Shakya Work\\Anaconda3\\lib\\site-packages\\sklearn\\linear_model\\logistic.py:433: FutureWarning: Default solver will be changed to 'lbfgs' in 0.22. Specify a solver to silence this warning.\n",
      "  FutureWarning)\n",
      "C:\\Users\\Shakya Work\\Anaconda3\\lib\\site-packages\\sklearn\\linear_model\\logistic.py:433: FutureWarning: Default solver will be changed to 'lbfgs' in 0.22. Specify a solver to silence this warning.\n",
      "  FutureWarning)\n",
      "C:\\Users\\Shakya Work\\Anaconda3\\lib\\site-packages\\sklearn\\linear_model\\logistic.py:433: FutureWarning: Default solver will be changed to 'lbfgs' in 0.22. Specify a solver to silence this warning.\n",
      "  FutureWarning)\n",
      "C:\\Users\\Shakya Work\\Anaconda3\\lib\\site-packages\\sklearn\\linear_model\\logistic.py:433: FutureWarning: Default solver will be changed to 'lbfgs' in 0.22. Specify a solver to silence this warning.\n",
      "  FutureWarning)\n",
      "C:\\Users\\Shakya Work\\Anaconda3\\lib\\site-packages\\sklearn\\linear_model\\logistic.py:433: FutureWarning: Default solver will be changed to 'lbfgs' in 0.22. Specify a solver to silence this warning.\n",
      "  FutureWarning)\n",
      "C:\\Users\\Shakya Work\\Anaconda3\\lib\\site-packages\\sklearn\\linear_model\\logistic.py:433: FutureWarning: Default solver will be changed to 'lbfgs' in 0.22. Specify a solver to silence this warning.\n",
      "  FutureWarning)\n",
      "C:\\Users\\Shakya Work\\Anaconda3\\lib\\site-packages\\sklearn\\linear_model\\logistic.py:433: FutureWarning: Default solver will be changed to 'lbfgs' in 0.22. Specify a solver to silence this warning.\n",
      "  FutureWarning)\n",
      "C:\\Users\\Shakya Work\\Anaconda3\\lib\\site-packages\\sklearn\\linear_model\\logistic.py:433: FutureWarning: Default solver will be changed to 'lbfgs' in 0.22. Specify a solver to silence this warning.\n",
      "  FutureWarning)\n",
      "C:\\Users\\Shakya Work\\Anaconda3\\lib\\site-packages\\sklearn\\linear_model\\logistic.py:433: FutureWarning: Default solver will be changed to 'lbfgs' in 0.22. Specify a solver to silence this warning.\n",
      "  FutureWarning)\n",
      "C:\\Users\\Shakya Work\\Anaconda3\\lib\\site-packages\\sklearn\\linear_model\\logistic.py:433: FutureWarning: Default solver will be changed to 'lbfgs' in 0.22. Specify a solver to silence this warning.\n",
      "  FutureWarning)\n",
      "C:\\Users\\Shakya Work\\Anaconda3\\lib\\site-packages\\sklearn\\linear_model\\logistic.py:433: FutureWarning: Default solver will be changed to 'lbfgs' in 0.22. Specify a solver to silence this warning.\n",
      "  FutureWarning)\n",
      "C:\\Users\\Shakya Work\\Anaconda3\\lib\\site-packages\\sklearn\\linear_model\\logistic.py:433: FutureWarning: Default solver will be changed to 'lbfgs' in 0.22. Specify a solver to silence this warning.\n",
      "  FutureWarning)\n",
      "C:\\Users\\Shakya Work\\Anaconda3\\lib\\site-packages\\sklearn\\linear_model\\logistic.py:433: FutureWarning: Default solver will be changed to 'lbfgs' in 0.22. Specify a solver to silence this warning.\n",
      "  FutureWarning)\n",
      "C:\\Users\\Shakya Work\\Anaconda3\\lib\\site-packages\\sklearn\\linear_model\\logistic.py:433: FutureWarning: Default solver will be changed to 'lbfgs' in 0.22. Specify a solver to silence this warning.\n",
      "  FutureWarning)\n",
      "C:\\Users\\Shakya Work\\Anaconda3\\lib\\site-packages\\sklearn\\linear_model\\logistic.py:433: FutureWarning: Default solver will be changed to 'lbfgs' in 0.22. Specify a solver to silence this warning.\n",
      "  FutureWarning)\n",
      "C:\\Users\\Shakya Work\\Anaconda3\\lib\\site-packages\\sklearn\\linear_model\\logistic.py:433: FutureWarning: Default solver will be changed to 'lbfgs' in 0.22. Specify a solver to silence this warning.\n",
      "  FutureWarning)\n",
      "C:\\Users\\Shakya Work\\Anaconda3\\lib\\site-packages\\sklearn\\linear_model\\logistic.py:433: FutureWarning: Default solver will be changed to 'lbfgs' in 0.22. Specify a solver to silence this warning.\n",
      "  FutureWarning)\n",
      "C:\\Users\\Shakya Work\\Anaconda3\\lib\\site-packages\\sklearn\\linear_model\\logistic.py:433: FutureWarning: Default solver will be changed to 'lbfgs' in 0.22. Specify a solver to silence this warning.\n",
      "  FutureWarning)\n",
      "C:\\Users\\Shakya Work\\Anaconda3\\lib\\site-packages\\sklearn\\linear_model\\logistic.py:433: FutureWarning: Default solver will be changed to 'lbfgs' in 0.22. Specify a solver to silence this warning.\n",
      "  FutureWarning)\n",
      "C:\\Users\\Shakya Work\\Anaconda3\\lib\\site-packages\\sklearn\\linear_model\\logistic.py:433: FutureWarning: Default solver will be changed to 'lbfgs' in 0.22. Specify a solver to silence this warning.\n",
      "  FutureWarning)\n",
      "C:\\Users\\Shakya Work\\Anaconda3\\lib\\site-packages\\sklearn\\model_selection\\_split.py:2053: FutureWarning: You should specify a value for 'cv' instead of relying on the default value. The default value will change from 3 to 5 in version 0.22.\n",
      "  warnings.warn(CV_WARNING, FutureWarning)\n",
      "C:\\Users\\Shakya Work\\Anaconda3\\lib\\site-packages\\sklearn\\model_selection\\_split.py:2053: FutureWarning: You should specify a value for 'cv' instead of relying on the default value. The default value will change from 3 to 5 in version 0.22.\n",
      "  warnings.warn(CV_WARNING, FutureWarning)\n",
      "C:\\Users\\Shakya Work\\Anaconda3\\lib\\site-packages\\sklearn\\model_selection\\_split.py:2053: FutureWarning: You should specify a value for 'cv' instead of relying on the default value. The default value will change from 3 to 5 in version 0.22.\n",
      "  warnings.warn(CV_WARNING, FutureWarning)\n"
     ]
    }
   ],
   "source": [
    "#Getting best parameters\n",
    "from sklearn.model_selection import GridSearchCV\n",
    "\n",
    "\n",
    "# Logistic Regression \n",
    "log_reg_params = {\"penalty\": ['l1', 'l2'], 'C': [0.001, 0.01, 0.1, 1, 10, 100, 1000]}\n",
    "\n",
    "\n",
    "\n",
    "grid_log_reg = GridSearchCV(LogisticRegression(), log_reg_params)\n",
    "grid_log_reg.fit(X_train, y_train)\n",
    "# We automatically get the logistic regression with the best parameters.\n",
    "log_reg = grid_log_reg.best_estimator_\n",
    "\n",
    "knears_params = {\"n_neighbors\": list(range(2,5,1)), 'algorithm': ['auto', 'ball_tree', 'kd_tree', 'brute']}\n",
    "\n",
    "grid_knears = GridSearchCV(KNeighborsClassifier(), knears_params)\n",
    "grid_knears.fit(X_train, y_train)\n",
    "# KNears best estimator\n",
    "knears_neighbors = grid_knears.best_estimator_\n",
    "\n",
    "# Support Vector Classifier\n",
    "svc_params = {'C': [0.5, 0.7, 0.9, 1], 'kernel': ['rbf', 'poly', 'sigmoid', 'linear']}\n",
    "grid_svc = GridSearchCV(SVC(gamma='scale'), svc_params)\n",
    "grid_svc.fit(X_train, y_train)\n",
    "\n",
    "# SVC best estimator\n",
    "svc = grid_svc.best_estimator_\n",
    "\n",
    "# DecisionTree Classifier\n",
    "tree_params = {\"criterion\": [\"gini\", \"entropy\"], \"max_depth\": list(range(2,4,1)), \n",
    "              \"min_samples_leaf\": list(range(5,7,1))}\n",
    "grid_tree = GridSearchCV(DecisionTreeClassifier(), tree_params)\n",
    "grid_tree.fit(X_train, y_train)\n",
    "\n",
    "# tree best estimator\n",
    "tree_clf = grid_tree.best_estimator_"
   ]
  },
  {
   "cell_type": "code",
   "execution_count": 76,
   "metadata": {},
   "outputs": [
    {
     "name": "stdout",
     "output_type": "stream",
     "text": [
      "Logistic Regression: LogisticRegression(C=10, class_weight=None, dual=False, fit_intercept=True,\n",
      "          intercept_scaling=1, max_iter=100, multi_class='warn',\n",
      "          n_jobs=None, penalty='l1', random_state=None, solver='warn',\n",
      "          tol=0.0001, verbose=0, warm_start=False)\n",
      "\n",
      "KNears Neighbors: KNeighborsClassifier(algorithm='auto', leaf_size=30, metric='minkowski',\n",
      "           metric_params=None, n_jobs=None, n_neighbors=3, p=2,\n",
      "           weights='uniform')\n",
      "\n",
      "Support Vector Classifier: SVC(C=0.7, cache_size=200, class_weight=None, coef0=0.0,\n",
      "  decision_function_shape='ovr', degree=3, gamma='scale', kernel='linear',\n",
      "  max_iter=-1, probability=False, random_state=None, shrinking=True,\n",
      "  tol=0.001, verbose=False)\n",
      "\n",
      "Decision Tree Classifier: DecisionTreeClassifier(class_weight=None, criterion='gini', max_depth=2,\n",
      "            max_features=None, max_leaf_nodes=None,\n",
      "            min_impurity_decrease=0.0, min_impurity_split=None,\n",
      "            min_samples_leaf=5, min_samples_split=2,\n",
      "            min_weight_fraction_leaf=0.0, presort=False, random_state=None,\n",
      "            splitter='best')\n"
     ]
    }
   ],
   "source": [
    "print('Logistic Regression: {}'.format(log_reg))\n",
    "print('\\nKNears Neighbors: {}'.format(knears_neighbors))\n",
    "print('\\nSupport Vector Classifier: {}'.format(svc))\n",
    "print('\\nDecision Tree Classifier: {}'.format(tree_clf))"
   ]
  },
  {
   "cell_type": "code",
   "execution_count": 85,
   "metadata": {},
   "outputs": [
    {
     "name": "stdout",
     "output_type": "stream",
     "text": [
      "------------------------------------------------------------------------------------------------------------------------\n",
      "Overfitting: \n",
      "\n",
      "Recall Score: 1.00\n",
      "Precision Score: 1.00\n",
      "F1 Score: 1.00\n",
      "Accuracy Score: 1.00\n",
      "------------------------------------------------------------------------------------------------------------------------\n"
     ]
    }
   ],
   "source": [
    "from sklearn.metrics import recall_score, precision_score, f1_score, accuracy_score\n",
    "y_pred = log_reg.predict(X_test)\n",
    "\n",
    "# Overfitting Case\n",
    "print('---' * 40)\n",
    "print('Overfitting: \\n')\n",
    "print('Recall Score: {:.2f}'.format(recall_score(y_test, y_pred)))\n",
    "print('Precision Score: {:.2f}'.format(precision_score(y_test, y_pred)))\n",
    "print('F1 Score: {:.2f}'.format(f1_score(y_test, y_pred)))\n",
    "print('Accuracy Score: {:.2f}'.format(accuracy_score(y_test, y_pred)))\n",
    "print('---' * 40)"
   ]
  },
  {
   "cell_type": "code",
   "execution_count": 119,
   "metadata": {},
   "outputs": [
    {
     "ename": "AttributeError",
     "evalue": "'Pipeline' object has no attribute '_iter'",
     "output_type": "error",
     "traceback": [
      "\u001b[1;31m---------------------------------------------------------------------------\u001b[0m",
      "\u001b[1;31mAttributeError\u001b[0m                            Traceback (most recent call last)",
      "\u001b[1;32m<ipython-input-119-a0f9026cb1ee>\u001b[0m in \u001b[0;36m<module>\u001b[1;34m\u001b[0m\n\u001b[0;32m      2\u001b[0m \u001b[0mnearmiss\u001b[0m \u001b[1;33m=\u001b[0m \u001b[0mNearMiss\u001b[0m\u001b[1;33m(\u001b[0m\u001b[0msampling_strategy\u001b[0m\u001b[1;33m=\u001b[0m\u001b[1;34m'majority'\u001b[0m\u001b[1;33m)\u001b[0m\u001b[1;33m\u001b[0m\u001b[1;33m\u001b[0m\u001b[0m\n\u001b[0;32m      3\u001b[0m \u001b[0mpipeline\u001b[0m \u001b[1;33m=\u001b[0m \u001b[0mPipeline\u001b[0m\u001b[1;33m(\u001b[0m\u001b[1;33m[\u001b[0m\u001b[1;33m(\u001b[0m\u001b[1;34m'nearmiss'\u001b[0m\u001b[1;33m,\u001b[0m \u001b[0mnearmiss\u001b[0m\u001b[1;33m)\u001b[0m\u001b[1;33m]\u001b[0m\u001b[1;33m)\u001b[0m\u001b[1;33m\u001b[0m\u001b[1;33m\u001b[0m\u001b[0m\n\u001b[1;32m----> 4\u001b[1;33m \u001b[0mpipeline\u001b[0m\u001b[1;33m.\u001b[0m\u001b[0mfit\u001b[0m\u001b[1;33m(\u001b[0m\u001b[0munder_Xtrain\u001b[0m\u001b[1;33m[\u001b[0m\u001b[0mtrain\u001b[0m\u001b[1;33m]\u001b[0m\u001b[1;33m,\u001b[0m \u001b[0munder_ytrain\u001b[0m\u001b[1;33m[\u001b[0m\u001b[0mtrain\u001b[0m\u001b[1;33m]\u001b[0m\u001b[1;33m)\u001b[0m\u001b[1;33m\u001b[0m\u001b[1;33m\u001b[0m\u001b[0m\n\u001b[0m",
      "\u001b[1;32m~\\Anaconda3\\lib\\site-packages\\imblearn\\pipeline.py\u001b[0m in \u001b[0;36mfit\u001b[1;34m(self, X, y, **fit_params)\u001b[0m\n\u001b[0;32m    236\u001b[0m \u001b[1;33m\u001b[0m\u001b[0m\n\u001b[0;32m    237\u001b[0m         \"\"\"\n\u001b[1;32m--> 238\u001b[1;33m         \u001b[0mXt\u001b[0m\u001b[1;33m,\u001b[0m \u001b[0myt\u001b[0m\u001b[1;33m,\u001b[0m \u001b[0mfit_params\u001b[0m \u001b[1;33m=\u001b[0m \u001b[0mself\u001b[0m\u001b[1;33m.\u001b[0m\u001b[0m_fit\u001b[0m\u001b[1;33m(\u001b[0m\u001b[0mX\u001b[0m\u001b[1;33m,\u001b[0m \u001b[0my\u001b[0m\u001b[1;33m,\u001b[0m \u001b[1;33m**\u001b[0m\u001b[0mfit_params\u001b[0m\u001b[1;33m)\u001b[0m\u001b[1;33m\u001b[0m\u001b[1;33m\u001b[0m\u001b[0m\n\u001b[0m\u001b[0;32m    239\u001b[0m         \u001b[1;32mif\u001b[0m \u001b[0mself\u001b[0m\u001b[1;33m.\u001b[0m\u001b[0m_final_estimator\u001b[0m \u001b[1;33m!=\u001b[0m \u001b[1;34m'passthrough'\u001b[0m\u001b[1;33m:\u001b[0m\u001b[1;33m\u001b[0m\u001b[1;33m\u001b[0m\u001b[0m\n\u001b[0;32m    240\u001b[0m             \u001b[0mself\u001b[0m\u001b[1;33m.\u001b[0m\u001b[0m_final_estimator\u001b[0m\u001b[1;33m.\u001b[0m\u001b[0mfit\u001b[0m\u001b[1;33m(\u001b[0m\u001b[0mXt\u001b[0m\u001b[1;33m,\u001b[0m \u001b[0myt\u001b[0m\u001b[1;33m,\u001b[0m \u001b[1;33m**\u001b[0m\u001b[0mfit_params\u001b[0m\u001b[1;33m)\u001b[0m\u001b[1;33m\u001b[0m\u001b[1;33m\u001b[0m\u001b[0m\n",
      "\u001b[1;32m~\\Anaconda3\\lib\\site-packages\\imblearn\\pipeline.py\u001b[0m in \u001b[0;36m_fit\u001b[1;34m(self, X, y, **fit_params)\u001b[0m\n\u001b[0;32m    174\u001b[0m             \u001b[0mstep\u001b[0m\u001b[1;33m,\u001b[0m \u001b[0mparam\u001b[0m \u001b[1;33m=\u001b[0m \u001b[0mpname\u001b[0m\u001b[1;33m.\u001b[0m\u001b[0msplit\u001b[0m\u001b[1;33m(\u001b[0m\u001b[1;34m'__'\u001b[0m\u001b[1;33m,\u001b[0m \u001b[1;36m1\u001b[0m\u001b[1;33m)\u001b[0m\u001b[1;33m\u001b[0m\u001b[1;33m\u001b[0m\u001b[0m\n\u001b[0;32m    175\u001b[0m             \u001b[0mfit_params_steps\u001b[0m\u001b[1;33m[\u001b[0m\u001b[0mstep\u001b[0m\u001b[1;33m]\u001b[0m\u001b[1;33m[\u001b[0m\u001b[0mparam\u001b[0m\u001b[1;33m]\u001b[0m \u001b[1;33m=\u001b[0m \u001b[0mpval\u001b[0m\u001b[1;33m\u001b[0m\u001b[1;33m\u001b[0m\u001b[0m\n\u001b[1;32m--> 176\u001b[1;33m         \u001b[1;32mfor\u001b[0m \u001b[0mstep_idx\u001b[0m\u001b[1;33m,\u001b[0m \u001b[0mname\u001b[0m\u001b[1;33m,\u001b[0m \u001b[0mtransformer\u001b[0m \u001b[1;32min\u001b[0m \u001b[0mself\u001b[0m\u001b[1;33m.\u001b[0m\u001b[0m_iter\u001b[0m\u001b[1;33m(\u001b[0m\u001b[0mwith_final\u001b[0m\u001b[1;33m=\u001b[0m\u001b[1;32mFalse\u001b[0m\u001b[1;33m)\u001b[0m\u001b[1;33m:\u001b[0m\u001b[1;33m\u001b[0m\u001b[1;33m\u001b[0m\u001b[0m\n\u001b[0m\u001b[0;32m    177\u001b[0m             \u001b[1;32mif\u001b[0m \u001b[0mhasattr\u001b[0m\u001b[1;33m(\u001b[0m\u001b[0mmemory\u001b[0m\u001b[1;33m,\u001b[0m \u001b[1;34m'location'\u001b[0m\u001b[1;33m)\u001b[0m\u001b[1;33m:\u001b[0m\u001b[1;33m\u001b[0m\u001b[1;33m\u001b[0m\u001b[0m\n\u001b[0;32m    178\u001b[0m                 \u001b[1;31m# joblib >= 0.12\u001b[0m\u001b[1;33m\u001b[0m\u001b[1;33m\u001b[0m\u001b[1;33m\u001b[0m\u001b[0m\n",
      "\u001b[1;31mAttributeError\u001b[0m: 'Pipeline' object has no attribute '_iter'"
     ]
    }
   ],
   "source": [
    "from imblearn.pipeline import make_pipeline, Pipeline\n",
    "nearmiss = NearMiss(sampling_strategy='majority')\n",
    "pipeline = Pipeline([('nearmiss', nearmiss)])\n",
    "pipeline.fit(under_Xtrain[train], under_ytrain[train])"
   ]
  },
  {
   "cell_type": "code",
   "execution_count": 77,
   "metadata": {},
   "outputs": [
    {
     "name": "stderr",
     "output_type": "stream",
     "text": [
      "C:\\Users\\Shakya Work\\Anaconda3\\lib\\site-packages\\sklearn\\linear_model\\logistic.py:433: FutureWarning: Default solver will be changed to 'lbfgs' in 0.22. Specify a solver to silence this warning.\n",
      "  FutureWarning)\n",
      "C:\\Users\\Shakya Work\\Anaconda3\\lib\\site-packages\\sklearn\\linear_model\\logistic.py:433: FutureWarning: Default solver will be changed to 'lbfgs' in 0.22. Specify a solver to silence this warning.\n",
      "  FutureWarning)\n",
      "C:\\Users\\Shakya Work\\Anaconda3\\lib\\site-packages\\sklearn\\linear_model\\logistic.py:433: FutureWarning: Default solver will be changed to 'lbfgs' in 0.22. Specify a solver to silence this warning.\n",
      "  FutureWarning)\n",
      "C:\\Users\\Shakya Work\\Anaconda3\\lib\\site-packages\\sklearn\\linear_model\\logistic.py:433: FutureWarning: Default solver will be changed to 'lbfgs' in 0.22. Specify a solver to silence this warning.\n",
      "  FutureWarning)\n",
      "C:\\Users\\Shakya Work\\Anaconda3\\lib\\site-packages\\sklearn\\linear_model\\logistic.py:433: FutureWarning: Default solver will be changed to 'lbfgs' in 0.22. Specify a solver to silence this warning.\n",
      "  FutureWarning)\n"
     ]
    }
   ],
   "source": [
    "from sklearn.metrics import roc_curve\n",
    "from sklearn.model_selection import cross_val_predict\n",
    "# Create a DataFrame with all the scores and the classifiers names.\n",
    "\n",
    "log_reg_pred = cross_val_predict(log_reg, X_train, y_train, cv=5,\n",
    "                             method=\"decision_function\")\n",
    "\n",
    "knears_pred = cross_val_predict(knears_neighbors, X_train, y_train, cv=5)\n",
    "\n",
    "svc_pred = cross_val_predict(svc, X_train, y_train, cv=5,\n",
    "                             method=\"decision_function\")\n",
    "\n",
    "tree_pred = cross_val_predict(tree_clf, X_train, y_train, cv=5)"
   ]
  },
  {
   "cell_type": "code",
   "execution_count": 78,
   "metadata": {},
   "outputs": [
    {
     "name": "stdout",
     "output_type": "stream",
     "text": [
      "Logistic Regression:  0.9998036555761816\n",
      "KNears Neighbors:  0.9353223618449237\n",
      "Support Vector Classifier:  0.9998393545623305\n",
      "Decision Tree Classifier:  0.9983221476510067\n"
     ]
    }
   ],
   "source": [
    "from sklearn.metrics import roc_auc_score\n",
    "\n",
    "print('Logistic Regression: ', roc_auc_score(y_train, log_reg_pred))\n",
    "print('KNears Neighbors: ', roc_auc_score(y_train, knears_pred))\n",
    "print('Support Vector Classifier: ', roc_auc_score(y_train, svc_pred))\n",
    "print('Decision Tree Classifier: ', roc_auc_score(y_train, tree_pred))"
   ]
  },
  {
   "cell_type": "code",
   "execution_count": 79,
   "metadata": {},
   "outputs": [],
   "source": [
    "log_fpr, log_tpr, log_thresold = roc_curve(y_train, log_reg_pred)"
   ]
  },
  {
   "cell_type": "code",
   "execution_count": 84,
   "metadata": {},
   "outputs": [
    {
     "data": {
      "image/png": "[encoded data removed]",
      "text/plain": [
       "<Figure size 864x576 with 1 Axes>"
      ]
     },
     "metadata": {},
     "output_type": "display_data"
    }
   ],
   "source": [
    "log_fpr, log_tpr, log_thresold = roc_curve(y_train, log_reg_pred)\n",
    "knear_fpr, knear_tpr, knear_threshold = roc_curve(y_train, knears_pred)\n",
    "svc_fpr, svc_tpr, svc_threshold = roc_curve(y_train, svc_pred)\n",
    "tree_fpr, tree_tpr, tree_threshold = roc_curve(y_train, tree_pred)\n",
    "\n",
    "\n",
    "def graph_roc_curve_multiple(log_fpr, log_tpr, knear_fpr, knear_tpr, svc_fpr, svc_tpr, tree_fpr, tree_tpr):\n",
    "    plt.figure(figsize=(12,8))\n",
    "    plt.title('ROC Curve \\n Top 4 Classifiers', fontsize=18)\n",
    "    plt.plot(log_fpr, log_tpr, label='Logistic Regression Classifier Score: {:.4f}'.format(roc_auc_score(y_train, log_reg_pred)))\n",
    "    plt.plot(knear_fpr, knear_tpr, label='KNears Neighbors Classifier Score: {:.4f}'.format(roc_auc_score(y_train, knears_pred)))\n",
    "    plt.plot(svc_fpr, svc_tpr, label='Support Vector Classifier Score: {:.4f}'.format(roc_auc_score(y_train, svc_pred)))\n",
    "    plt.plot(tree_fpr, tree_tpr, label='Decision Tree Classifier Score: {:.4f}'.format(roc_auc_score(y_train, tree_pred)))\n",
    "    plt.plot([0, 1], [0, 1], 'k--')\n",
    "    plt.axis([-0.01, 1, 0, 1])\n",
    "    plt.xlabel('False Positive Rate', fontsize=16)\n",
    "    plt.ylabel('True Positive Rate', fontsize=16)\n",
    "    plt.annotate('Minimum ROC Score of 50% \\n (This is the minimum score to get)', xy=(0.5, 0.5), xytext=(0.6, 0.3),\n",
    "                arrowprops=dict(facecolor='#6E726D', shrink=0.05),\n",
    "                )\n",
    "    plt.legend()\n",
    "    \n",
    "graph_roc_curve_multiple(log_fpr, log_tpr, knear_fpr, knear_tpr, svc_fpr, svc_tpr, tree_fpr, tree_tpr)\n",
    "plt.show()"
   ]
  },
  {
   "cell_type": "markdown",
   "metadata": {},
   "source": [
    "## Conclusion on Undersampling"
   ]
  },
  {
   "cell_type": "markdown",
   "metadata": {},
   "source": [
    "All these Models are performing very well on the undersampled data. However, as discussed above, undersampled data may lose a lot of information due dropping of observations of majority class. Thus, we cannot we completely sure if these results from these models are optimal. To solve this problem, we will work on oversampled dataset - SMOTE dataset"
   ]
  }
 ],
 "metadata": {
  "kernelspec": {
   "display_name": "Python 3",
   "language": "python",
   "name": "python3"
  },
  "language_info": {
   "codemirror_mode": {
    "name": "ipython",
    "version": 3
   },
   "file_extension": ".py",
   "mimetype": "text/x-python",
   "name": "python",
   "nbconvert_exporter": "python",
   "pygments_lexer": "ipython3",
   "version": "3.7.3"
  }
 },
 "nbformat": 4,
 "nbformat_minor": 2
}
